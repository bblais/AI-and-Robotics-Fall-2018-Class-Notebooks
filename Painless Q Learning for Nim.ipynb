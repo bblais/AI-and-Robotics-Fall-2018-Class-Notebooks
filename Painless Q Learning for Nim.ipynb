{
 "cells": [
  {
   "cell_type": "code",
   "execution_count": 1,
   "metadata": {
    "collapsed": false
   },
   "outputs": [
    {
     "name": "stdout",
     "output_type": "stream",
     "text": [
      "Version:  0.2.5\n"
     ]
    }
   ],
   "source": [
    "from Game import *\n",
    "\n",
    "def initial_state():\n",
    "    return randint(15,25)\n",
    "\n",
    "def valid_moves(state,player):\n",
    "    if state==1:\n",
    "        return [1]\n",
    "    elif state==2:\n",
    "        return [1,2]\n",
    "    else:\n",
    "        return [1,2,3]\n",
    "        \n",
    "def show_state(state):\n",
    "    print (\"There are \",state,\" sticks left.\")\n",
    "\n",
    "def update_state(state,player,move):\n",
    "    new_state=state-move\n",
    "    return new_state\n",
    "\n",
    "def win_status(state,player):\n",
    "\n",
    "    if state==1:\n",
    "        return 'win'\n",
    "    \n",
    "    elif state==0:\n",
    "        return 'lose'\n",
    "    \n",
    "    else:\n",
    "        return None\n",
    "\n",
    "\n",
    "def human_move(state,player):\n",
    "\n",
    "    move=input('Take 1, 2 or 3 sticks ')\n",
    "    return move\n",
    "\n",
    "\n",
    "def perfect_move(state,player):\n",
    "    move=(state-1)%4\n",
    "    if move==0:\n",
    "        move=1\n",
    "    return move\n",
    "\n",
    "def random_move(state,player):\n",
    "    move=random_choice(valid_moves(state,player))\n",
    "    return move\n",
    "\n",
    "\n",
    "human_agent=Agent(human_move)\n",
    "random_agent=Agent(random_move)\n",
    "perfect_agent=Agent(perfect_move)\n"
   ]
  },
  {
   "cell_type": "markdown",
   "metadata": {},
   "source": [
    "from http://mnemstudio.org/path-finding-q-learning.htm\n",
    "\n",
    "Q(state, action) = R(state, action) + Gamma * Max[Q(next state, all actions)]\n",
    "\n",
    "basically q learning with alpha = 1, epsilon =1"
   ]
  },
  {
   "cell_type": "code",
   "execution_count": 5,
   "metadata": {
    "collapsed": false
   },
   "outputs": [],
   "source": [
    "def Q_move(state,player,info):\n",
    "    Q=info.Q\n",
    "    last_action=info.last_action\n",
    "    last_state=info.last_state\n",
    "    \n",
    "    gamma=info.gamma  # memory \n",
    "    epsilon=info.epsilon  # probability of doing random move\n",
    "    \n",
    "    if not (state,player) in Q:\n",
    "        Q[(state,player)]=Table()\n",
    "        for action in valid_moves(state,player):\n",
    "            Q[(state,player)][action]=0.0\n",
    "            \n",
    "    if random.random()<epsilon:  # random move\n",
    "        action=random_choice(Q[(state,player)])\n",
    "    else:\n",
    "        action=top_choice(Q[(state,player)])\n",
    "        \n",
    "        \n",
    "    if not last_action is None:  # anything but the first move\n",
    "        r=0.0\n",
    "        Q[(last_state,player)][last_action]+=alpha*(r + \n",
    "            gamma*max([Q[(state,player)][a] for a in Q[(state,player)]]) -\n",
    "            Q[(last_state,player)][last_action] )\n",
    "        \n",
    "    return action\n",
    "\n",
    "def Q_post(status,player,info):\n",
    "    Q=info.Q\n",
    "    last_action=info.last_action\n",
    "    last_state=info.last_state\n",
    "    \n",
    "    alpha=info.alpha  # learning rate\n",
    "    gamma=info.gamma  # memory \n",
    "    epsilon=info.epsilon  # probability of doing random move\n",
    "\n",
    "    if status=='lose':\n",
    "        r=-1.0\n",
    "    elif status=='win':\n",
    "        r=1.0\n",
    "    else:\n",
    "        r=0.0\n",
    "        \n",
    "    if not last_action is None:  # anything but the first move\n",
    "        Q[(last_state,player)][last_action]+=alpha*(r -\n",
    "            Q[(last_state,player)][last_action] )\n",
    "        "
   ]
  },
  {
   "cell_type": "code",
   "execution_count": 13,
   "metadata": {
    "collapsed": false
   },
   "outputs": [],
   "source": [
    "Q_agent=Agent(Q_move)\n",
    "Q_agent.post=Q_post\n",
    "\n",
    "Q_agent.Q=Remember(filename='Q_data.json')\n",
    "Q_agent.alpha=0.3  # learning rate\n",
    "Q_agent.gamma=0.9  # memory\n",
    "Q_agent.epsilon=0.1  # chance of making a random move"
   ]
  },
  {
   "cell_type": "code",
   "execution_count": 7,
   "metadata": {
    "collapsed": false
   },
   "outputs": [
    {
     "name": "stdout",
     "output_type": "stream",
     "text": [
      "====\n",
      "Game  1\n",
      "There are  16  sticks left.\n",
      "Player 1 moves 3\n",
      "There are  13  sticks left.\n",
      "Player 2 moves 1\n",
      "There are  12  sticks left.\n",
      "Player 1 moves 3\n",
      "There are  9  sticks left.\n",
      "Player 2 moves 1\n",
      "There are  8  sticks left.\n",
      "Player 1 moves 3\n",
      "There are  5  sticks left.\n",
      "Player 2 moves 1\n",
      "There are  4  sticks left.\n",
      "Player 1 moves 3\n",
      "There are  1  sticks left.\n",
      "Player  1 won.\n",
      "Total number of games:  1\n",
      "Winning 100.00 percent\n",
      "Losing 0.00 percent\n",
      "Tie 0.00 percent\n"
     ]
    }
   ],
   "source": [
    "g=Game()\n",
    "g.run(Q_agent,perfect_agent)\n",
    "g.report()"
   ]
  },
  {
   "cell_type": "code",
   "execution_count": 8,
   "metadata": {
    "collapsed": false
   },
   "outputs": [
    {
     "data": {
      "text/plain": [
       "{(4, 1): {1: 0.0, 2: 0.0, 3: 0.3},\n",
       " (8, 1): {1: 0.0, 2: 0.0, 3: 0.0},\n",
       " (12, 1): {1: 0.0, 2: 0.0, 3: 0.0},\n",
       " (16, 1): {1: 0.0, 2: 0.0, 3: 0.0}}"
      ]
     },
     "execution_count": 8,
     "metadata": {},
     "output_type": "execute_result"
    }
   ],
   "source": [
    "Q_agent.Q"
   ]
  },
  {
   "cell_type": "markdown",
   "metadata": {},
   "source": [
    "While learning, set epsilon to 0.1"
   ]
  },
  {
   "cell_type": "code",
   "execution_count": 9,
   "metadata": {
    "collapsed": false
   },
   "outputs": [
    {
     "name": "stdout",
     "output_type": "stream",
     "text": [
      "Total number of games:  1000\n",
      "Winning 50.60 percent\n",
      "Losing 49.40 percent\n",
      "Tie 0.00 percent\n"
     ]
    }
   ],
   "source": [
    "Q_agent.epsilon=0.1\n",
    "\n",
    "g=Game(number_of_games=1000)\n",
    "g.display=False\n",
    "g.run(Q_agent,perfect_agent)\n",
    "Remember(Q_agent.Q,filename='Q_data.json')\n",
    "g.report()"
   ]
  },
  {
   "cell_type": "code",
   "execution_count": 10,
   "metadata": {
    "collapsed": false
   },
   "outputs": [
    {
     "data": {
      "text/plain": [
       "{(4, 1): {1: -0.9992020773370239,\n",
       "  2: -0.9903110989592999,\n",
       "  3: 0.9999999999999999},\n",
       " (5, 1): {1: -0.9999999999999999,\n",
       "  2: -0.9999999999999999,\n",
       "  3: -0.9999999999999999},\n",
       " (8, 1): {1: -0.8989536089288866,\n",
       "  2: -0.8987025603011634,\n",
       "  3: 0.8999999999999998},\n",
       " (9, 1): {1: -0.8999999999999998,\n",
       "  2: -0.8999999999999998,\n",
       "  3: -0.8999999999999998},\n",
       " (12, 1): {1: -0.8086547152865513,\n",
       "  2: -0.8061532048562045,\n",
       "  3: 0.8099999999999997},\n",
       " (13, 1): {1: -0.8099999999999997,\n",
       "  2: -0.8099999999999997,\n",
       "  3: -0.8099999999999997},\n",
       " (15, 1): {1: -0.47881284519955125,\n",
       "  2: 0.7289999999999875,\n",
       "  3: -0.28942818072363713},\n",
       " (16, 1): {1: -0.7287048525831605,\n",
       "  2: -0.7262829849484715,\n",
       "  3: 0.7289999999999996},\n",
       " (17, 1): {1: -0.7289999999999986,\n",
       "  2: -0.7289999999999985,\n",
       "  3: -0.7289999999999983},\n",
       " (18, 1): {1: 0.6560999999998705,\n",
       "  2: -0.6132611887557214,\n",
       "  3: -0.6089849648103065},\n",
       " (19, 1): {1: -0.4307472677759666,\n",
       "  2: 0.6560999999896954,\n",
       "  3: -0.21869999999999992},\n",
       " (20, 1): {1: -0.6363496227203255,\n",
       "  2: -0.6243912923352528,\n",
       "  3: 0.6560999999999996},\n",
       " (21, 1): {1: -0.656099999527306,\n",
       "  2: -0.6560999996187703,\n",
       "  3: -0.656099999569886},\n",
       " (22, 1): {1: 0.5904899999980296,\n",
       "  2: -0.20325831033589875,\n",
       "  3: -0.19692209677293163},\n",
       " (23, 1): {1: 0.0, 2: 0.5904899999833128, 3: -0.3353921296930186},\n",
       " (24, 1): {1: -0.31698130304889344,\n",
       "  2: -0.4394461798432756,\n",
       "  3: 0.5904899999999993},\n",
       " (25, 1): {1: -0.5904691360665315,\n",
       "  2: -0.5904656035345119,\n",
       "  3: -0.5904635683493047}}"
      ]
     },
     "execution_count": 10,
     "metadata": {},
     "output_type": "execute_result"
    }
   ],
   "source": [
    "Q_agent.Q"
   ]
  },
  {
   "cell_type": "markdown",
   "metadata": {},
   "source": [
    "When we want to see how good it really is, turn off epsilon (no random moves)"
   ]
  },
  {
   "cell_type": "code",
   "execution_count": 11,
   "metadata": {
    "collapsed": false
   },
   "outputs": [
    {
     "name": "stdout",
     "output_type": "stream",
     "text": [
      "Total number of games:  1000\n",
      "Winning 73.90 percent\n",
      "Losing 26.10 percent\n",
      "Tie 0.00 percent\n"
     ]
    }
   ],
   "source": [
    "Q_agent.epsilon=0.0\n",
    "\n",
    "g=Game(number_of_games=1000)\n",
    "g.display=False\n",
    "g.run(Q_agent,perfect_agent)\n",
    "Remember(Q_agent.Q,filename='Q_data.json')\n",
    "g.report()"
   ]
  },
  {
   "cell_type": "markdown",
   "metadata": {},
   "source": [
    "## Can a Q-agent play against another?"
   ]
  },
  {
   "cell_type": "code",
   "execution_count": 15,
   "metadata": {
    "collapsed": false
   },
   "outputs": [
    {
     "name": "stdout",
     "output_type": "stream",
     "text": [
      "Resetting the database Q1_data.json\n",
      "Resetting the database Q2_data.json\n"
     ]
    }
   ],
   "source": [
    "Q1_agent=Agent(Q_move)\n",
    "Q1_agent.post=Q_post\n",
    "\n",
    "Q1_agent.Q=Remember(filename='Q1_data.json')\n",
    "Q1_agent.alpha=0.3  # learning rate\n",
    "Q1_agent.gamma=0.9  # memory\n",
    "Q1_agent.epsilon=0.1  # chance of making a random move\n",
    "\n",
    "Q2_agent=Agent(Q_move)\n",
    "Q2_agent.post=Q_post\n",
    "\n",
    "Q2_agent.Q=Remember(filename='Q2_data.json')\n",
    "Q2_agent.alpha=0.3  # learning rate\n",
    "Q2_agent.gamma=0.9  # memory\n",
    "Q2_agent.epsilon=0.1  # chance of making a random move\n"
   ]
  },
  {
   "cell_type": "code",
   "execution_count": 16,
   "metadata": {
    "collapsed": false
   },
   "outputs": [
    {
     "name": "stdout",
     "output_type": "stream",
     "text": [
      "Total number of games:  1000\n",
      "Winning 59.90 percent\n",
      "Losing 40.10 percent\n",
      "Tie 0.00 percent\n"
     ]
    }
   ],
   "source": [
    "Q1_agent.epsilon=0.1\n",
    "Q2_agent.epsilon=0.1\n",
    "\n",
    "g=Game(number_of_games=1000)\n",
    "g.display=False\n",
    "g.run(Q1_agent,Q2_agent)\n",
    "Remember(Q1_agent.Q,filename='Q1_data.json')\n",
    "Remember(Q2_agent.Q,filename='Q2_data.json')\n",
    "g.report()"
   ]
  },
  {
   "cell_type": "code",
   "execution_count": 17,
   "metadata": {
    "collapsed": false
   },
   "outputs": [
    {
     "name": "stdout",
     "output_type": "stream",
     "text": [
      "Total number of games:  1000\n",
      "Winning 71.50 percent\n",
      "Losing 28.50 percent\n",
      "Tie 0.00 percent\n"
     ]
    }
   ],
   "source": [
    "Q1_agent.epsilon=0.0\n",
    "Q2_agent.epsilon=0.0\n",
    "Q1_agent.alpha=0.0\n",
    "Q2_agent.alpha=0.0\n",
    "\n",
    "g=Game(number_of_games=1000)\n",
    "g.display=False\n",
    "g.run(Q1_agent,perfect_agent)\n",
    "g.report()"
   ]
  },
  {
   "cell_type": "code",
   "execution_count": 18,
   "metadata": {
    "collapsed": false
   },
   "outputs": [
    {
     "name": "stdout",
     "output_type": "stream",
     "text": [
      "Total number of games:  1000\n",
      "Winning 70.90 percent\n",
      "Losing 29.10 percent\n",
      "Tie 0.00 percent\n"
     ]
    }
   ],
   "source": [
    "Q1_agent.epsilon=0.0\n",
    "Q2_agent.epsilon=0.0\n",
    "Q1_agent.alpha=0.0\n",
    "Q2_agent.alpha=0.0\n",
    "\n",
    "g=Game(number_of_games=1000)\n",
    "g.display=False\n",
    "g.run(perfect_agent,Q2_agent)\n",
    "g.report()"
   ]
  },
  {
   "cell_type": "code",
   "execution_count": null,
   "metadata": {
    "collapsed": false
   },
   "outputs": [],
   "source": []
  },
  {
   "cell_type": "code",
   "execution_count": null,
   "metadata": {
    "collapsed": true
   },
   "outputs": [],
   "source": []
  }
 ],
 "metadata": {
  "anaconda-cloud": {},
  "kernelspec": {
   "display_name": "Python 3",
   "language": "python",
   "name": "python3"
  },
  "language_info": {
   "codemirror_mode": {
    "name": "ipython",
    "version": 3
   },
   "file_extension": ".py",
   "mimetype": "text/x-python",
   "name": "python",
   "nbconvert_exporter": "python",
   "pygments_lexer": "ipython3",
   "version": "3.6.3"
  }
 },
 "nbformat": 4,
 "nbformat_minor": 2
}
