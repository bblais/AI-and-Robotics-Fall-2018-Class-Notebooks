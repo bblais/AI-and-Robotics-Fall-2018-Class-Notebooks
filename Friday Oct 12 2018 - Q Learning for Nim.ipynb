{
 "cells": [
  {
   "cell_type": "code",
   "execution_count": 1,
   "metadata": {},
   "outputs": [
    {
     "name": "stdout",
     "output_type": "stream",
     "text": [
      "Version:  0.2.6\n"
     ]
    }
   ],
   "source": [
    "from Game import *"
   ]
  },
  {
   "cell_type": "code",
   "execution_count": 2,
   "metadata": {
    "collapsed": false
   },
   "outputs": [],
   "source": [
    "def initial_state():\n",
    "    return randint(15,25)\n",
    "\n",
    "def valid_moves(state,player):\n",
    "    if state==1:\n",
    "        return [1]\n",
    "    elif state==2:\n",
    "        return [1,2]\n",
    "    else:\n",
    "        return [1,2,3]\n",
    "        \n",
    "def show_state(state):\n",
    "    print (\"There are \",state,\" sticks left.\")\n",
    "\n",
    "def update_state(state,player,move):\n",
    "    new_state=state-move\n",
    "    return new_state\n",
    "\n",
    "def win_status(state,player):\n",
    "\n",
    "    if state==1:\n",
    "        return 'win'\n",
    "    \n",
    "    elif state==0:\n",
    "        return 'lose'\n",
    "    \n",
    "    else:\n",
    "        return None\n",
    "\n",
    "\n",
    "def human_move(state,player):\n",
    "\n",
    "    move=input('Take 1, 2 or 3 sticks ')\n",
    "    return move\n",
    "\n",
    "\n",
    "def perfect_move(state,player):\n",
    "    move=(state-1)%4\n",
    "    if move==0:\n",
    "        move=1\n",
    "    return move\n",
    "\n",
    "def random_move(state,player):\n",
    "    move=random_choice(valid_moves(state,player))\n",
    "    return move\n",
    "\n",
    "\n",
    "human_agent=Agent(human_move)\n",
    "random_agent=Agent(random_move)\n",
    "perfect_agent=Agent(perfect_move)\n"
   ]
  },
  {
   "cell_type": "code",
   "execution_count": 3,
   "metadata": {
    "collapsed": false
   },
   "outputs": [],
   "source": [
    "def Q_move(state,player,info):\n",
    "    Q=info.Q\n",
    "    last_action=info.last_action\n",
    "    last_state=info.last_state\n",
    "    \n",
    "    alpha=info.alpha  # learning rate\n",
    "    gamma=info.gamma  # memory \n",
    "    epsilon=info.epsilon  # probability of doing random move\n",
    "    \n",
    "    if not state in Q:\n",
    "        Q[state]=Table()\n",
    "        for action in valid_moves(state,player):\n",
    "            Q[state][action]=0.0\n",
    "            \n",
    "    if random.random()<epsilon:  # random move\n",
    "        action=random_choice(Q[state])\n",
    "    else:\n",
    "        action=top_choice(Q[state])\n",
    "        \n",
    "        \n",
    "    if not last_action is None:  # anything but the first move\n",
    "        r=0.0\n",
    "        Q[last_state][last_action]+=alpha*(r + \n",
    "            gamma*max([Q[state][a] for a in Q[state]]) -\n",
    "            Q[last_state][last_action] )\n",
    "        \n",
    "    return action\n",
    "\n",
    "def Q_post(status,player,info):\n",
    "    Q=info.Q\n",
    "    last_action=info.last_action\n",
    "    last_state=info.last_state\n",
    "    \n",
    "    alpha=info.alpha  # learning rate\n",
    "    gamma=info.gamma  # memory \n",
    "    epsilon=info.epsilon  # probability of doing random move\n",
    "\n",
    "    if status=='lose':\n",
    "        r=-1.0\n",
    "    elif status=='win':\n",
    "        r=1.0\n",
    "    else:\n",
    "        r=0.0\n",
    "        \n",
    "    if not last_action is None:  # anything but the first move\n",
    "        Q[last_state][last_action]+=alpha*(r -\n",
    "            Q[last_state][last_action] )\n",
    "        "
   ]
  },
  {
   "cell_type": "code",
   "execution_count": 4,
   "metadata": {
    "collapsed": false
   },
   "outputs": [],
   "source": [
    "Q_agent=Agent(Q_move)\n",
    "Q_agent.post=Q_post\n",
    "\n",
    "Q_agent.Q=Remember(filename='Q_data.json')\n",
    "Q_agent.alpha=0.3  # learning rate\n",
    "Q_agent.gamma=0.9  # memory\n",
    "Q_agent.epsilon=0.1  # chance of making a random move"
   ]
  },
  {
   "cell_type": "code",
   "execution_count": 6,
   "metadata": {
    "collapsed": false
   },
   "outputs": [
    {
     "name": "stdout",
     "output_type": "stream",
     "text": [
      "====\n",
      "Game  1\n",
      "There are  15  sticks left.\n",
      "Player 1 moves 3\n",
      "There are  12  sticks left.\n",
      "Player 2 moves 3\n",
      "There are  9  sticks left.\n",
      "Player 1 moves 3\n",
      "There are  6  sticks left.\n",
      "Player 2 moves 1\n",
      "There are  5  sticks left.\n",
      "Player 1 moves 2\n",
      "There are  3  sticks left.\n",
      "Player 2 moves 2\n",
      "There are  1  sticks left.\n",
      "Player  2 won.\n",
      "Total number of games:  1\n",
      "Winning 0.00 percent\n",
      "Losing 100.00 percent\n",
      "Tie 0.00 percent\n"
     ]
    }
   ],
   "source": [
    "g=Game()\n",
    "g.run(Q_agent,perfect_agent)\n",
    "g.report()"
   ]
  },
  {
   "cell_type": "code",
   "execution_count": 7,
   "metadata": {
    "collapsed": false
   },
   "outputs": [
    {
     "data": {
      "text/plain": [
       "{5: {1: 0.0, 2: -0.3, 3: -0.3},\n",
       " 9: {1: 0.0, 2: 0.0, 3: 0.0},\n",
       " 13: {1: 0.0, 2: 0.0, 3: 0.0},\n",
       " 15: {1: 0.0, 2: 0.0, 3: 0.0},\n",
       " 18: {1: 0.0, 2: 0.0, 3: 0.0}}"
      ]
     },
     "execution_count": 7,
     "metadata": {},
     "output_type": "execute_result"
    }
   ],
   "source": [
    "Q_agent.Q"
   ]
  },
  {
   "cell_type": "markdown",
   "metadata": {},
   "source": [
    "While learning, set epsilon to 0.1"
   ]
  },
  {
   "cell_type": "code",
   "execution_count": 9,
   "metadata": {
    "collapsed": false
   },
   "outputs": [
    {
     "name": "stdout",
     "output_type": "stream",
     "text": [
      "Total number of games:  1000\n",
      "Winning 52.60 percent\n",
      "Losing 47.40 percent\n",
      "Tie 0.00 percent\n"
     ]
    }
   ],
   "source": [
    "Q_agent.epsilon=0.1\n",
    "\n",
    "g=Game(number_of_games=1000)\n",
    "g.display=False\n",
    "g.run(Q_agent,perfect_agent)\n",
    "Remember(Q_agent.Q,filename='Q_data.json')\n",
    "g.report()"
   ]
  },
  {
   "cell_type": "code",
   "execution_count": 10,
   "metadata": {
    "collapsed": false
   },
   "outputs": [
    {
     "data": {
      "text/plain": [
       "{4: {1: -0.9999987006518856, 2: -0.9999889557232575, 3: 0.9999999999999999},\n",
       " 5: {1: -0.9999999999999999, 2: -0.9999999999999999, 3: -0.9999999999999999},\n",
       " 8: {1: -0.899997584229671, 2: -0.8999993573327671, 3: 0.8999999999999998},\n",
       " 9: {1: -0.8999999999999998, 2: -0.8999999999999998, 3: -0.8999999999999998},\n",
       " 12: {1: -0.8099903460229622, 2: -0.8099989455410559, 3: 0.8099999999999997},\n",
       " 13: {1: -0.8099999999999997, 2: -0.8099999999999997, 3: -0.8099999999999997},\n",
       " 15: {1: -0.6971149344558585, 2: 0.7289999999999996, 3: -0.7838892613793348},\n",
       " 16: {1: -0.7289874345941785, 2: -0.7289998866946924, 3: 0.7289999999999996},\n",
       " 17: {1: -0.7289999999999996, 2: -0.7289999999999996, 3: -0.7289999999999996},\n",
       " 18: {1: 0.6560999999999996, 2: -0.5452048208018773, 3: -0.6751207186925269},\n",
       " 19: {1: -0.5487382389206135, 2: 0.6560999999999996, 3: -0.6650656245835707},\n",
       " 20: {1: -0.6560353979861371, 2: -0.6560888375914812, 3: 0.6560999999999996},\n",
       " 21: {1: -0.6560999999999996, 2: -0.6560999999999996, 3: -0.6560999999999996},\n",
       " 22: {1: 0.5904899999999995, 2: -0.6382620749359096, 3: -0.4997570605521065},\n",
       " 23: {1: -0.5208549593876393, 2: 0.5904899999999995, 3: -0.5468206036141419},\n",
       " 24: {1: -0.5210194333170324, 2: -0.43670141297068654, 3: 0.5904899999999995},\n",
       " 25: {1: -0.590489995775994, 2: -0.5904899967619714, 3: -0.5904899962227931}}"
      ]
     },
     "execution_count": 10,
     "metadata": {},
     "output_type": "execute_result"
    }
   ],
   "source": [
    "Q_agent.Q"
   ]
  },
  {
   "cell_type": "markdown",
   "metadata": {},
   "source": [
    "When we want to see how good it really is, turn off epsilon (no random moves)"
   ]
  },
  {
   "cell_type": "code",
   "execution_count": 11,
   "metadata": {
    "collapsed": false
   },
   "outputs": [
    {
     "name": "stdout",
     "output_type": "stream",
     "text": [
      "Total number of games:  1000\n",
      "Winning 71.20 percent\n",
      "Losing 28.80 percent\n",
      "Tie 0.00 percent\n"
     ]
    }
   ],
   "source": [
    "Q_agent.epsilon=0.0\n",
    "\n",
    "g=Game(number_of_games=1000)\n",
    "g.display=False\n",
    "g.run(Q_agent,perfect_agent)\n",
    "Remember(Q_agent.Q,filename='Q_data.json')\n",
    "g.report()"
   ]
  },
  {
   "cell_type": "markdown",
   "metadata": {},
   "source": [
    "## Can a Q-agent play against another?"
   ]
  },
  {
   "cell_type": "code",
   "execution_count": 12,
   "metadata": {
    "collapsed": false
   },
   "outputs": [],
   "source": [
    "Q1_agent=Agent(Q_move)\n",
    "Q1_agent.post=Q_post\n",
    "\n",
    "Q1_agent.Q=Remember(filename='Q1_data.json')\n",
    "Q1_agent.alpha=0.3  # learning rate\n",
    "Q1_agent.gamma=0.9  # memory\n",
    "Q1_agent.epsilon=0.1  # chance of making a random move\n",
    "\n",
    "Q2_agent=Agent(Q_move)\n",
    "Q2_agent.post=Q_post\n",
    "\n",
    "Q2_agent.Q=Remember(filename='Q2_data.json')\n",
    "Q2_agent.alpha=0.3  # learning rate\n",
    "Q2_agent.gamma=0.9  # memory\n",
    "Q2_agent.epsilon=0.1  # chance of making a random move\n"
   ]
  },
  {
   "cell_type": "code",
   "execution_count": 13,
   "metadata": {
    "collapsed": false
   },
   "outputs": [
    {
     "name": "stdout",
     "output_type": "stream",
     "text": [
      "Total number of games:  1000\n",
      "Winning 60.60 percent\n",
      "Losing 39.40 percent\n",
      "Tie 0.00 percent\n"
     ]
    }
   ],
   "source": [
    "Q1_agent.epsilon=0.1\n",
    "Q2_agent.epsilon=0.1\n",
    "\n",
    "g=Game(number_of_games=1000)\n",
    "g.display=False\n",
    "g.run(Q1_agent,Q2_agent)\n",
    "Remember(Q1_agent.Q,filename='Q1_data.json')\n",
    "Remember(Q2_agent.Q,filename='Q2_data.json')\n",
    "g.report()"
   ]
  },
  {
   "cell_type": "code",
   "execution_count": 14,
   "metadata": {
    "collapsed": false
   },
   "outputs": [
    {
     "name": "stdout",
     "output_type": "stream",
     "text": [
      "Total number of games:  1000\n",
      "Winning 73.20 percent\n",
      "Losing 26.80 percent\n",
      "Tie 0.00 percent\n"
     ]
    }
   ],
   "source": [
    "Q1_agent.epsilon=0.0\n",
    "Q2_agent.epsilon=0.0\n",
    "Q1_agent.alpha=0.0\n",
    "Q2_agent.alpha=0.0\n",
    "\n",
    "g=Game(number_of_games=1000)\n",
    "g.display=False\n",
    "g.run(Q1_agent,perfect_agent)\n",
    "g.report()"
   ]
  },
  {
   "cell_type": "code",
   "execution_count": 15,
   "metadata": {
    "collapsed": false
   },
   "outputs": [
    {
     "name": "stdout",
     "output_type": "stream",
     "text": [
      "Total number of games:  1000\n",
      "Winning 71.80 percent\n",
      "Losing 28.20 percent\n",
      "Tie 0.00 percent\n"
     ]
    }
   ],
   "source": [
    "Q1_agent.epsilon=0.0\n",
    "Q2_agent.epsilon=0.0\n",
    "Q1_agent.alpha=0.0\n",
    "Q2_agent.alpha=0.0\n",
    "\n",
    "g=Game(number_of_games=1000)\n",
    "g.display=False\n",
    "g.run(perfect_agent,Q2_agent)\n",
    "g.report()"
   ]
  },
  {
   "cell_type": "markdown",
   "metadata": {},
   "source": [
    "## things you should do:\n",
    "\n",
    "1. run this more times and explain the structure of the json files\n",
    "2. run this with tic tac toe"
   ]
  },
  {
   "cell_type": "code",
   "execution_count": null,
   "metadata": {
    "collapsed": true
   },
   "outputs": [],
   "source": []
  }
 ],
 "metadata": {
  "anaconda-cloud": {},
  "kernelspec": {
   "display_name": "Python 3",
   "language": "python",
   "name": "python3"
  },
  "language_info": {
   "codemirror_mode": {
    "name": "ipython",
    "version": 3
   },
   "file_extension": ".py",
   "mimetype": "text/x-python",
   "name": "python",
   "nbconvert_exporter": "python",
   "pygments_lexer": "ipython3",
   "version": "3.6.3"
  }
 },
 "nbformat": 4,
 "nbformat_minor": 2
}
