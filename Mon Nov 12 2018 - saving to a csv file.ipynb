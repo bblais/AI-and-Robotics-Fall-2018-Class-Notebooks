{
 "cells": [
  {
   "cell_type": "code",
   "execution_count": 1,
   "metadata": {},
   "outputs": [
    {
     "name": "stdout",
     "output_type": "stream",
     "text": [
      "Populating the interactive namespace from numpy and matplotlib\n"
     ]
    }
   ],
   "source": [
    "%pylab inline"
   ]
  },
  {
   "cell_type": "code",
   "execution_count": 5,
   "metadata": {},
   "outputs": [],
   "source": [
    "def get_value():\n",
    "    return rand()"
   ]
  },
  {
   "cell_type": "code",
   "execution_count": 6,
   "metadata": {},
   "outputs": [
    {
     "name": "stdout",
     "output_type": "stream",
     "text": [
      "0.15401358787697073\n",
      "0.23957587802589286\n",
      "0.668814633859446\n",
      "0.6424270225984962\n",
      "0.9992952264127625\n",
      "0.43671492255692623\n",
      "0.614547980668248\n",
      "0.12398198747626687\n",
      "0.15494575643877484\n",
      "0.3181993487926379\n"
     ]
    }
   ],
   "source": [
    "for i in range(10):\n",
    "    v=get_value()\n",
    "    print(v)"
   ]
  },
  {
   "cell_type": "code",
   "execution_count": 13,
   "metadata": {},
   "outputs": [],
   "source": [
    "values=[]\n",
    "for i in range(10):\n",
    "    v=get_value()\n",
    "    values.append(v)"
   ]
  },
  {
   "cell_type": "code",
   "execution_count": 14,
   "metadata": {},
   "outputs": [
    {
     "data": {
      "text/plain": [
       "[0.21049913096119,\n",
       " 0.044495053375126936,\n",
       " 0.9761816274175757,\n",
       " 0.44172333453498847,\n",
       " 0.8219768898479007,\n",
       " 0.5629683919039771,\n",
       " 0.5601701290462279,\n",
       " 0.8992672865406413,\n",
       " 0.5029710878211561,\n",
       " 0.005568021921868116]"
      ]
     },
     "execution_count": 14,
     "metadata": {},
     "output_type": "execute_result"
    }
   ],
   "source": [
    "values"
   ]
  },
  {
   "cell_type": "code",
   "execution_count": 16,
   "metadata": {},
   "outputs": [],
   "source": [
    "target_name='red'\n",
    "with open('testdata.csv','a') as fid:\n",
    "    for v in values:\n",
    "        fid.write(str(v)+\",\")\n",
    "    fid.write(target_name+'\\n')"
   ]
  },
  {
   "cell_type": "code",
   "execution_count": null,
   "metadata": {},
   "outputs": [],
   "source": []
  }
 ],
 "metadata": {
  "kernelspec": {
   "display_name": "Python 3",
   "language": "python",
   "name": "python3"
  },
  "language_info": {
   "codemirror_mode": {
    "name": "ipython",
    "version": 3
   },
   "file_extension": ".py",
   "mimetype": "text/x-python",
   "name": "python",
   "nbconvert_exporter": "python",
   "pygments_lexer": "ipython3",
   "version": "3.7.0"
  }
 },
 "nbformat": 4,
 "nbformat_minor": 2
}
