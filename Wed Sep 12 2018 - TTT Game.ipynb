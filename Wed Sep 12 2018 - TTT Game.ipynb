{
 "cells": [
  {
   "cell_type": "markdown",
   "metadata": {},
   "source": [
    "## TTT"
   ]
  },
  {
   "cell_type": "code",
   "execution_count": 4,
   "metadata": {},
   "outputs": [
    {
     "name": "stdout",
     "output_type": "stream",
     "text": [
      "Version:  0.2.4\n"
     ]
    }
   ],
   "source": [
    "from Game import *"
   ]
  },
  {
   "cell_type": "code",
   "execution_count": 5,
   "metadata": {},
   "outputs": [],
   "source": [
    "def initial_state():\n",
    "    return [0,0,0,0,0,0,0,0,0]"
   ]
  },
  {
   "cell_type": "code",
   "execution_count": 6,
   "metadata": {},
   "outputs": [],
   "source": [
    "def initial_state():\n",
    "    return Board(3,3)"
   ]
  },
  {
   "cell_type": "code",
   "execution_count": 7,
   "metadata": {},
   "outputs": [
    {
     "data": {
      "text/plain": [
       " 0  0  0 \n",
       " 0  0  0 \n",
       " 0  0  0 "
      ]
     },
     "execution_count": 7,
     "metadata": {},
     "output_type": "execute_result"
    }
   ],
   "source": [
    "state=initial_state()\n",
    "state"
   ]
  },
  {
   "cell_type": "code",
   "execution_count": 8,
   "metadata": {},
   "outputs": [],
   "source": [
    "state[4]=2 #  what does the \"4\" mean - move, and what does the \"2\" mean - player?\n",
    "state[7]=1 "
   ]
  },
  {
   "cell_type": "code",
   "execution_count": 9,
   "metadata": {},
   "outputs": [
    {
     "data": {
      "text/plain": [
       " 0  0  0 \n",
       " 0  2  0 \n",
       " 0  1  0 "
      ]
     },
     "execution_count": 9,
     "metadata": {},
     "output_type": "execute_result"
    }
   ],
   "source": [
    "state"
   ]
  },
  {
   "cell_type": "code",
   "execution_count": 10,
   "metadata": {},
   "outputs": [
    {
     "data": {
      "text/plain": [
       "1"
      ]
     },
     "execution_count": 10,
     "metadata": {},
     "output_type": "execute_result"
    }
   ],
   "source": [
    "state[2,1]"
   ]
  },
  {
   "cell_type": "code",
   "execution_count": 11,
   "metadata": {},
   "outputs": [],
   "source": [
    "def valid_moves(state,player):\n",
    "    # recall that state is a board, list of 0,1 or 2\n",
    "    bob=[]\n",
    "    for i in range(9):\n",
    "        piece=state[i]\n",
    "        if piece==0:\n",
    "            bob.append(i)\n",
    "    return bob"
   ]
  },
  {
   "cell_type": "code",
   "execution_count": 12,
   "metadata": {},
   "outputs": [
    {
     "data": {
      "text/plain": [
       " 0  0  0 \n",
       " 0  2  0 \n",
       " 0  1  0 "
      ]
     },
     "execution_count": 12,
     "metadata": {},
     "output_type": "execute_result"
    }
   ],
   "source": [
    "state"
   ]
  },
  {
   "cell_type": "code",
   "execution_count": 13,
   "metadata": {},
   "outputs": [
    {
     "data": {
      "text/plain": [
       "[0, 1, 2, 3, 5, 6, 8]"
      ]
     },
     "execution_count": 13,
     "metadata": {},
     "output_type": "execute_result"
    }
   ],
   "source": [
    "valid_moves(state,1)"
   ]
  },
  {
   "cell_type": "code",
   "execution_count": 14,
   "metadata": {},
   "outputs": [
    {
     "data": {
      "text/plain": [
       "[0, 1, 2, 3, 5, 6, 8]"
      ]
     },
     "execution_count": 14,
     "metadata": {},
     "output_type": "execute_result"
    }
   ],
   "source": [
    "a=valid_moves(state,1)\n",
    "a"
   ]
  },
  {
   "cell_type": "code",
   "execution_count": null,
   "metadata": {},
   "outputs": [],
   "source": []
  },
  {
   "cell_type": "code",
   "execution_count": 15,
   "metadata": {},
   "outputs": [],
   "source": [
    "def show_state(state):\n",
    "    print(state[0],state[1],state[2])\n",
    "    print(state[3],state[4],state[5])    \n",
    "    print(state[6],state[7],state[8])"
   ]
  },
  {
   "cell_type": "code",
   "execution_count": 16,
   "metadata": {},
   "outputs": [],
   "source": [
    "def show_state(state):\n",
    "    print(state)"
   ]
  },
  {
   "cell_type": "code",
   "execution_count": 17,
   "metadata": {},
   "outputs": [
    {
     "name": "stdout",
     "output_type": "stream",
     "text": [
      " 0  0  0 \n",
      " 0  2  0 \n",
      " 0  1  0 \n",
      "\n"
     ]
    }
   ],
   "source": [
    "show_state(state)"
   ]
  },
  {
   "cell_type": "code",
   "execution_count": 18,
   "metadata": {},
   "outputs": [],
   "source": [
    "state.pieces=['.','X','O']"
   ]
  },
  {
   "cell_type": "code",
   "execution_count": 19,
   "metadata": {},
   "outputs": [
    {
     "name": "stdout",
     "output_type": "stream",
     "text": [
      " .  .  . \n",
      " .  O  . \n",
      " .  X  . \n",
      "\n"
     ]
    }
   ],
   "source": [
    "show_state(state)"
   ]
  },
  {
   "cell_type": "code",
   "execution_count": 20,
   "metadata": {},
   "outputs": [],
   "source": [
    "def update_state(state,player,move):\n",
    "    new_state=state\n",
    "    new_state[move]=player\n",
    "    return new_state"
   ]
  },
  {
   "cell_type": "code",
   "execution_count": 21,
   "metadata": {},
   "outputs": [
    {
     "name": "stdout",
     "output_type": "stream",
     "text": [
      " 0  0  0 \n",
      " 0  0  1 \n",
      " 0  0  0 \n",
      "\n",
      "\n",
      " 0  2  0 \n",
      " 0  0  1 \n",
      " 0  0  0 \n",
      "\n"
     ]
    }
   ],
   "source": [
    "state=initial_state()\n",
    "state=update_state(state,1,5)\n",
    "show_state(state)\n",
    "print()\n",
    "state=update_state(state,2,1)\n",
    "show_state(state)"
   ]
  },
  {
   "cell_type": "code",
   "execution_count": null,
   "metadata": {},
   "outputs": [],
   "source": []
  },
  {
   "cell_type": "code",
   "execution_count": null,
   "metadata": {},
   "outputs": [],
   "source": []
  },
  {
   "cell_type": "code",
   "execution_count": 22,
   "metadata": {},
   "outputs": [],
   "source": [
    "def win_status(state,player):\n",
    "    if state[0]==player and state[1]==player and state[2]==player:\n",
    "        return 'win'\n",
    "    if state[3]==player and state[4]==player and state[5]==player:\n",
    "        return 'win'\n",
    "    if state[6]==player and state[7]==player and state[8]==player:\n",
    "        return 'win'\n",
    "    if state[0]==player and state[3]==player and state[6]==player:\n",
    "        return 'win'\n",
    "    if state[1]==player and state[4]==player and state[7]==player:\n",
    "        return 'win'\n",
    "    if state[2]==player and state[5]==player and state[8]==player:\n",
    "        return 'win'\n",
    "    if state[0]==player and state[4]==player and state[8]==player:\n",
    "        return 'win'\n",
    "    if state[6]==player and state[4]==player and state[2]==player:\n",
    "        return 'win'\n",
    "    \n",
    "    if player==1:\n",
    "        other_player=2\n",
    "    else:\n",
    "        other_player=1\n",
    "        \n",
    "    if not valid_moves(state,other_player):\n",
    "        return 'stalemate'\n",
    "    \n",
    "    "
   ]
  },
  {
   "cell_type": "code",
   "execution_count": 23,
   "metadata": {},
   "outputs": [
    {
     "data": {
      "text/plain": [
       " 1  1  1 \n",
       " 0  0  0 \n",
       " 0  0  0 "
      ]
     },
     "execution_count": 23,
     "metadata": {},
     "output_type": "execute_result"
    }
   ],
   "source": [
    "state=Board(3,3)\n",
    "state[0]=1\n",
    "state[1]=1\n",
    "state[2]=1\n",
    "state"
   ]
  },
  {
   "cell_type": "code",
   "execution_count": 24,
   "metadata": {},
   "outputs": [
    {
     "data": {
      "text/plain": [
       "'win'"
      ]
     },
     "execution_count": 24,
     "metadata": {},
     "output_type": "execute_result"
    }
   ],
   "source": [
    "win_status(state,1)"
   ]
  },
  {
   "cell_type": "code",
   "execution_count": 25,
   "metadata": {},
   "outputs": [],
   "source": [
    "Z=[1,1,1,0,0,0,0,0,0]"
   ]
  },
  {
   "cell_type": "code",
   "execution_count": 26,
   "metadata": {},
   "outputs": [
    {
     "data": {
      "text/plain": [
       "'win'"
      ]
     },
     "execution_count": 26,
     "metadata": {},
     "output_type": "execute_result"
    }
   ],
   "source": [
    "win_status(Z,1)"
   ]
  },
  {
   "cell_type": "markdown",
   "metadata": {},
   "source": [
    "some function for agent moves (human, ai)"
   ]
  },
  {
   "cell_type": "code",
   "execution_count": 32,
   "metadata": {},
   "outputs": [],
   "source": [
    "def get_human_move(state,player):\n",
    "    move=int(input('Which board position do you move?'))\n",
    "    return move"
   ]
  },
  {
   "cell_type": "code",
   "execution_count": 33,
   "metadata": {},
   "outputs": [],
   "source": [
    "def random_move(state,player):\n",
    "    moves=valid_moves(state,player)\n",
    "    return random.choice(moves)"
   ]
  },
  {
   "cell_type": "code",
   "execution_count": 34,
   "metadata": {},
   "outputs": [],
   "source": [
    "human_agent=Agent(get_human_move)\n",
    "random_agent=Agent(random_move)"
   ]
  },
  {
   "cell_type": "code",
   "execution_count": 37,
   "metadata": {},
   "outputs": [
    {
     "name": "stdout",
     "output_type": "stream",
     "text": [
      "====\n",
      "Game  1\n",
      " 0  0  0 \n",
      " 0  0  0 \n",
      " 0  0  0 \n",
      "\n",
      "Player 1 moves 2\n",
      " 0  0  1 \n",
      " 0  0  0 \n",
      " 0  0  0 \n",
      "\n",
      "Player 2 moves 6\n",
      " 0  0  1 \n",
      " 0  0  0 \n",
      " 2  0  0 \n",
      "\n",
      "Player 1 moves 5\n",
      " 0  0  1 \n",
      " 0  0  1 \n",
      " 2  0  0 \n",
      "\n",
      "Player 2 moves 4\n",
      " 0  0  1 \n",
      " 0  2  1 \n",
      " 2  0  0 \n",
      "\n",
      "Player 1 moves 7\n",
      " 0  0  1 \n",
      " 0  2  1 \n",
      " 2  1  0 \n",
      "\n",
      "Player 2 moves 8\n",
      " 0  0  1 \n",
      " 0  2  1 \n",
      " 2  1  2 \n",
      "\n",
      "Player 1 moves 1\n",
      " 0  1  1 \n",
      " 0  2  1 \n",
      " 2  1  2 \n",
      "\n",
      "Player 2 moves 3\n",
      " 0  1  1 \n",
      " 2  2  1 \n",
      " 2  1  2 \n",
      "\n",
      "Player 1 moves 0\n",
      " 1  1  1 \n",
      " 2  2  1 \n",
      " 2  1  2 \n",
      "\n",
      "Player  1 won.\n",
      "Total number of games:  1\n",
      "Winning 100.00 percent\n",
      "Losing 0.00 percent\n",
      "Tie 0.00 percent\n"
     ]
    }
   ],
   "source": [
    "g=Game(number_of_games=1)\n",
    "g.run(random_agent,random_agent)\n",
    "g.report()"
   ]
  },
  {
   "cell_type": "code",
   "execution_count": 30,
   "metadata": {},
   "outputs": [],
   "source": [
    "state=Board(3,4)\n",
    "state[8]=state[9]=state[10]=1\n",
    "state[4]=state[6]=2"
   ]
  },
  {
   "cell_type": "code",
   "execution_count": 31,
   "metadata": {},
   "outputs": [
    {
     "data": {
      "text/plain": [
       " 0  0  0  0 \n",
       " 2  0  2  0 \n",
       " 1  1  1  0 "
      ]
     },
     "execution_count": 31,
     "metadata": {},
     "output_type": "execute_result"
    }
   ],
   "source": [
    "state"
   ]
  },
  {
   "cell_type": "code",
   "execution_count": 48,
   "metadata": {},
   "outputs": [],
   "source": [
    "def update_state(state,player,move):\n",
    "    col=move\n",
    "    move_row=0\n",
    "    \n",
    "    number_of_rows,number_of_cols=state.shape\n",
    "    for row in range(number_of_rows):\n",
    "        if state[row,col]==0:\n",
    "            move_row=row\n",
    "            \n",
    "    \n",
    "    print(\"move row\",move_row)"
   ]
  },
  {
   "cell_type": "code",
   "execution_count": 53,
   "metadata": {},
   "outputs": [
    {
     "name": "stdout",
     "output_type": "stream",
     "text": [
      "move row 0\n"
     ]
    }
   ],
   "source": [
    "update_state(state,1,0)"
   ]
  },
  {
   "cell_type": "code",
   "execution_count": 50,
   "metadata": {},
   "outputs": [
    {
     "data": {
      "text/plain": [
       " 0  0  0  0 \n",
       " 2  0  2  0 \n",
       " 1  1  1  0 "
      ]
     },
     "execution_count": 50,
     "metadata": {},
     "output_type": "execute_result"
    }
   ],
   "source": [
    "state"
   ]
  },
  {
   "cell_type": "code",
   "execution_count": 57,
   "metadata": {},
   "outputs": [
    {
     "data": {
      "text/plain": [
       "[[10, 5], [8, 5], [10, 7]]"
      ]
     },
     "execution_count": 57,
     "metadata": {},
     "output_type": "execute_result"
    }
   ],
   "source": [
    "state.moves(1,'nw,ne')"
   ]
  },
  {
   "cell_type": "code",
   "execution_count": null,
   "metadata": {},
   "outputs": [],
   "source": []
  }
 ],
 "metadata": {
  "kernelspec": {
   "display_name": "Python 3",
   "language": "python",
   "name": "python3"
  },
  "language_info": {
   "codemirror_mode": {
    "name": "ipython",
    "version": 3
   },
   "file_extension": ".py",
   "mimetype": "text/x-python",
   "name": "python",
   "nbconvert_exporter": "python",
   "pygments_lexer": "ipython3",
   "version": "3.6.3"
  }
 },
 "nbformat": 4,
 "nbformat_minor": 2
}
