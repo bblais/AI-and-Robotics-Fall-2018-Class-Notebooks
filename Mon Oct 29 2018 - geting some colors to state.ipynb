{
 "cells": [
  {
   "cell_type": "code",
   "execution_count": 1,
   "metadata": {},
   "outputs": [
    {
     "name": "stdout",
     "output_type": "stream",
     "text": [
      "Populating the interactive namespace from numpy and matplotlib\n"
     ]
    }
   ],
   "source": [
    "%pylab inline"
   ]
  },
  {
   "cell_type": "code",
   "execution_count": 2,
   "metadata": {},
   "outputs": [],
   "source": [
    "colors=[0,0,0,0,0,1,1,1,0,0,0,0,2,0,2,0,0]  # say this came from a board with 4 rows"
   ]
  },
  {
   "cell_type": "code",
   "execution_count": 16,
   "metadata": {},
   "outputs": [
    {
     "name": "stdout",
     "output_type": "stream",
     "text": [
      "[0. 0. 0. 0. 0. 1. 1. 1. 0. 0. 0. 0. 2. 0. 2. 0. 0.]\n"
     ]
    }
   ],
   "source": [
    "colors=loadtxt('test_colors.txt',delimiter=',')\n",
    "print(colors)"
   ]
  },
  {
   "cell_type": "markdown",
   "metadata": {},
   "source": [
    "* to do - reading from text file"
   ]
  },
  {
   "cell_type": "code",
   "execution_count": 17,
   "metadata": {},
   "outputs": [],
   "source": [
    "length_of_color_list=len(colors)\n",
    "length_per_square=length_of_color_list//4  # make it an integer\n",
    "L=length_per_square"
   ]
  },
  {
   "cell_type": "code",
   "execution_count": 18,
   "metadata": {},
   "outputs": [
    {
     "name": "stdout",
     "output_type": "stream",
     "text": [
      "0 4\n",
      "[0. 0. 0. 0.]\n",
      "4 8\n",
      "[0. 1. 1. 1.]\n",
      "8 12\n",
      "[0. 0. 0. 0.]\n",
      "12 16\n",
      "[2. 0. 2. 0.]\n"
     ]
    }
   ],
   "source": [
    "for i in range(4):\n",
    "    print(L*i,L*(i+1))\n",
    "    print(colors[L*i:L*(i+1)])"
   ]
  },
  {
   "cell_type": "code",
   "execution_count": 19,
   "metadata": {},
   "outputs": [
    {
     "name": "stdout",
     "output_type": "stream",
     "text": [
      "0 4\n",
      "[0. 0. 0. 0.]\n",
      "4 8\n",
      "[0. 1. 1. 1.]\n",
      "player 1\n",
      "8 12\n",
      "[0. 0. 0. 0.]\n",
      "12 16\n",
      "[2. 0. 2. 0.]\n",
      "player 2\n"
     ]
    }
   ],
   "source": [
    "for i in range(4):\n",
    "    print(L*i,L*(i+1))\n",
    "    sublist=array(colors[L*i:L*(i+1)])\n",
    "    print(sublist)\n",
    "    if any(sublist==1):\n",
    "        print(\"player 1\")\n",
    "    elif any(sublist==2):\n",
    "        print(\"player 2\")        "
   ]
  },
  {
   "cell_type": "code",
   "execution_count": 20,
   "metadata": {},
   "outputs": [],
   "source": [
    "from Game import *"
   ]
  },
  {
   "cell_type": "code",
   "execution_count": 21,
   "metadata": {},
   "outputs": [
    {
     "name": "stdout",
     "output_type": "stream",
     "text": [
      "0 4\n",
      "[0. 0. 0. 0.]\n",
      "4 8\n",
      "[0. 1. 1. 1.]\n",
      "player 1\n",
      "8 12\n",
      "[0. 0. 0. 0.]\n",
      "12 16\n",
      "[2. 0. 2. 0.]\n",
      "player 2\n"
     ]
    }
   ],
   "source": [
    "state=Board(4,2)\n",
    "\n",
    "for i in range(4):\n",
    "    print(L*i,L*(i+1))\n",
    "    sublist=array(colors[L*i:L*(i+1)])\n",
    "    print(sublist)\n",
    "    if any(sublist==1):\n",
    "        print(\"player 1\")\n",
    "        state[i,0]=1\n",
    "    elif any(sublist==2):\n",
    "        print(\"player 2\")        \n",
    "        state[i,0]=2\n",
    "    else:\n",
    "        state[i,0]=0\n"
   ]
  },
  {
   "cell_type": "code",
   "execution_count": 22,
   "metadata": {},
   "outputs": [
    {
     "data": {
      "text/plain": [
       " 0  0 \n",
       " 1  0 \n",
       " 0  0 \n",
       " 2  0 "
      ]
     },
     "execution_count": 22,
     "metadata": {},
     "output_type": "execute_result"
    }
   ],
   "source": [
    "state"
   ]
  },
  {
   "cell_type": "code",
   "execution_count": null,
   "metadata": {},
   "outputs": [],
   "source": []
  }
 ],
 "metadata": {
  "kernelspec": {
   "display_name": "Python 3",
   "language": "python",
   "name": "python3"
  },
  "language_info": {
   "codemirror_mode": {
    "name": "ipython",
    "version": 3
   },
   "file_extension": ".py",
   "mimetype": "text/x-python",
   "name": "python",
   "nbconvert_exporter": "python",
   "pygments_lexer": "ipython3",
   "version": "3.7.0"
  }
 },
 "nbformat": 4,
 "nbformat_minor": 2
}
