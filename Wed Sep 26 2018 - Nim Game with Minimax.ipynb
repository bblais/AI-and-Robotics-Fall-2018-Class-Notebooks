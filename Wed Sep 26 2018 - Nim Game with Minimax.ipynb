{
 "cells": [
  {
   "cell_type": "markdown",
   "metadata": {},
   "source": [
    "## Nim Game\n",
    "\n",
    "Rules:\n",
    "\n",
    "1. Start with a number of sticks (21 usually, but can be 20-30).\n",
    "2. players alternate taking sticks\n",
    "3. Allowed to take only 1, 2, or 3 sticks\n",
    "4. Person to take the last stick loses"
   ]
  },
  {
   "cell_type": "code",
   "execution_count": 1,
   "metadata": {},
   "outputs": [
    {
     "name": "stdout",
     "output_type": "stream",
     "text": [
      "Version:  0.2.4\n"
     ]
    }
   ],
   "source": [
    "from Game import *"
   ]
  },
  {
   "cell_type": "code",
   "execution_count": 37,
   "metadata": {},
   "outputs": [],
   "source": [
    "def initial_state():\n",
    "    return random_choice([15,16,17,18])"
   ]
  },
  {
   "cell_type": "code",
   "execution_count": 25,
   "metadata": {},
   "outputs": [],
   "source": [
    "def valid_moves(state,player):\n",
    "    if state==2:\n",
    "        return [1,2]\n",
    "    elif state==1:\n",
    "        return [1]    \n",
    "    else:\n",
    "        return [1,2,3]"
   ]
  },
  {
   "cell_type": "code",
   "execution_count": 26,
   "metadata": {},
   "outputs": [],
   "source": [
    "def show_state(state):\n",
    "    print(state)"
   ]
  },
  {
   "cell_type": "code",
   "execution_count": 27,
   "metadata": {},
   "outputs": [],
   "source": [
    "def update_state(state,player,move):\n",
    "    new_state=state-move\n",
    "    return new_state"
   ]
  },
  {
   "cell_type": "code",
   "execution_count": 28,
   "metadata": {},
   "outputs": [],
   "source": [
    "def win_status(state,player):\n",
    "    if state==0:\n",
    "        return 'lose'\n",
    "    elif state==1: \n",
    "        return 'win'\n",
    "    else:\n",
    "        return None"
   ]
  },
  {
   "cell_type": "markdown",
   "metadata": {},
   "source": [
    "some function for agent moves (human, ai)"
   ]
  },
  {
   "cell_type": "code",
   "execution_count": 29,
   "metadata": {},
   "outputs": [],
   "source": [
    "def get_human_move(state,player):\n",
    "    move=int(input('How many sticks to take?'))\n",
    "    return move"
   ]
  },
  {
   "cell_type": "code",
   "execution_count": 30,
   "metadata": {},
   "outputs": [],
   "source": [
    "def random_move(state,player):\n",
    "    moves=valid_moves(state,player)\n",
    "    return random.choice(moves)"
   ]
  },
  {
   "cell_type": "code",
   "execution_count": 31,
   "metadata": {},
   "outputs": [],
   "source": [
    "human_agent=Agent(get_human_move)\n",
    "random_agent=Agent(random_move)"
   ]
  },
  {
   "cell_type": "code",
   "execution_count": 11,
   "metadata": {},
   "outputs": [
    {
     "name": "stdout",
     "output_type": "stream",
     "text": [
      "====\n",
      "Game  1\n",
      "21\n",
      "Player 1 moves -1\n",
      "Illegal move by the agent {'move': <function get_human_move at 0x10382d840>, 'states': [], 'actions': [], 'last_action': None, 'last_state': None, 'last_player': None, 'move_args': 2, 'move_count': 1}: -1.  Automatic Loss.\n",
      "21\n",
      "Player  2 won.\n"
     ]
    },
    {
     "data": {
      "text/plain": [
       "[2]"
      ]
     },
     "execution_count": 11,
     "metadata": {},
     "output_type": "execute_result"
    }
   ],
   "source": [
    "g=Game(number_of_games=1)\n",
    "g.run(human_agent,human_agent)"
   ]
  },
  {
   "cell_type": "code",
   "execution_count": 12,
   "metadata": {},
   "outputs": [
    {
     "name": "stdout",
     "output_type": "stream",
     "text": [
      "Total number of games:  1\n",
      "Winning 0.00 percent\n",
      "Losing 100.00 percent\n",
      "Tie 0.00 percent\n"
     ]
    }
   ],
   "source": [
    "g.report()"
   ]
  },
  {
   "cell_type": "code",
   "execution_count": 13,
   "metadata": {},
   "outputs": [
    {
     "name": "stdout",
     "output_type": "stream",
     "text": [
      "Total number of games:  100\n",
      "Winning 50.00 percent\n",
      "Losing 50.00 percent\n",
      "Tie 0.00 percent\n"
     ]
    }
   ],
   "source": [
    "g=Game(number_of_games=100)\n",
    "g.display=False\n",
    "g.run(random_agent,random_agent)\n",
    "g.report()"
   ]
  },
  {
   "cell_type": "markdown",
   "metadata": {},
   "source": [
    "## Now make a minimax agent"
   ]
  },
  {
   "cell_type": "code",
   "execution_count": 32,
   "metadata": {},
   "outputs": [],
   "source": [
    "from copy import deepcopy\n",
    "\n",
    "def minvalue(current_state,player):\n",
    "    if player==1:\n",
    "        other_player=2\n",
    "    else:\n",
    "        other_player=1\n",
    "\n",
    "    status=win_status(current_state,other_player)\n",
    "    \n",
    "    if status=='win':  # bad for min\n",
    "        return 1\n",
    "    elif status=='lose':  # good for min\n",
    "        return -1\n",
    "    elif status=='stalemate':  # draw\n",
    "        return 0\n",
    "    \n",
    "    moves=valid_moves(current_state,player)\n",
    "    available_states=[update_state(deepcopy(current_state),player,move)\n",
    "                                for move in moves]\n",
    "\n",
    "    values=[]\n",
    "    for state in available_states:\n",
    "        value=maxvalue(state,other_player)\n",
    "        values.append(value)\n",
    "        \n",
    "    if not values:  # no available states  = stalemate\n",
    "        return 0\n",
    "    else:\n",
    "        return min(values)\n",
    "    \n",
    "    \n",
    "def maxvalue(current_state,player):\n",
    "    if player==1:\n",
    "        other_player=2\n",
    "    else:\n",
    "        other_player=1\n",
    "\n",
    "    status=win_status(current_state,other_player)\n",
    "    \n",
    "    if status=='win':  # bad for max\n",
    "        return -1\n",
    "    elif status=='lose':  # good for max\n",
    "        return 1\n",
    "    elif status=='stalemate':  # draw\n",
    "        return 0\n",
    "    \n",
    "    moves=valid_moves(current_state,player)\n",
    "    available_states=[update_state(deepcopy(current_state),player,move)\n",
    "                                for move in moves]\n",
    "\n",
    "    values=[]\n",
    "    for state in available_states:\n",
    "        value=minvalue(state,other_player)\n",
    "        values.append(value)\n",
    "        \n",
    "    if not values:  # no available states  = stalemate\n",
    "        return 0\n",
    "    else:\n",
    "        return max(values)    \n",
    "    \n",
    "\n",
    "def minimax_values(current_state,player):\n",
    "    if player==1:\n",
    "        other_player=2\n",
    "    else:\n",
    "        other_player=1\n",
    "\n",
    "    values=[]\n",
    "    \n",
    "    moves=valid_moves(current_state,player)\n",
    "    available_states=[update_state(deepcopy(current_state),player,move)\n",
    "                                for move in moves]\n",
    "\n",
    "    for state in available_states:\n",
    "        value=minvalue(state,other_player)\n",
    "        values.append(value)\n",
    "\n",
    "    # sort by value\n",
    "    values,moves=zip(*sorted(zip(values,moves),reverse=True))\n",
    "    return values,moves    "
   ]
  },
  {
   "cell_type": "code",
   "execution_count": 21,
   "metadata": {},
   "outputs": [
    {
     "data": {
      "text/plain": [
       "((-1, -1, -1), (3, 2, 1))"
      ]
     },
     "execution_count": 21,
     "metadata": {},
     "output_type": "execute_result"
    }
   ],
   "source": [
    "values,moves=minimax_values(5,1)\n",
    "values,moves"
   ]
  },
  {
   "cell_type": "code",
   "execution_count": null,
   "metadata": {},
   "outputs": [],
   "source": []
  },
  {
   "cell_type": "code",
   "execution_count": null,
   "metadata": {},
   "outputs": [],
   "source": []
  },
  {
   "cell_type": "code",
   "execution_count": null,
   "metadata": {},
   "outputs": [],
   "source": []
  },
  {
   "cell_type": "code",
   "execution_count": null,
   "metadata": {},
   "outputs": [],
   "source": []
  },
  {
   "cell_type": "code",
   "execution_count": null,
   "metadata": {},
   "outputs": [],
   "source": []
  },
  {
   "cell_type": "code",
   "execution_count": null,
   "metadata": {},
   "outputs": [],
   "source": []
  },
  {
   "cell_type": "code",
   "execution_count": null,
   "metadata": {},
   "outputs": [],
   "source": []
  },
  {
   "cell_type": "code",
   "execution_count": 33,
   "metadata": {},
   "outputs": [],
   "source": [
    "from Game.minimax import *\n",
    "def minimax_move(state,player):\n",
    "\n",
    "    values,moves=minimax_values(state,player,display=False)\n",
    "    return top_choice(moves,values)\n",
    "\n",
    "minimax_agent=Agent(minimax_move)"
   ]
  },
  {
   "cell_type": "code",
   "execution_count": null,
   "metadata": {},
   "outputs": [],
   "source": []
  },
  {
   "cell_type": "code",
   "execution_count": 38,
   "metadata": {},
   "outputs": [
    {
     "name": "stdout",
     "output_type": "stream",
     "text": [
      "====\n",
      "Game  1\n",
      "17\n",
      "Player 1 moves 1\n",
      "16\n",
      "Player 2 moves 3\n",
      "13\n",
      "Player 1 moves 1\n",
      "12\n",
      "Player 2 moves 2\n",
      "10\n",
      "Player 1 moves 1\n",
      "9\n",
      "Player 2 moves 1\n",
      "8\n",
      "Player 1 moves 3\n",
      "5\n",
      "Player 2 moves 1\n",
      "4\n",
      "Player 1 moves 3\n",
      "1\n",
      "Player  1 won.\n",
      "Total number of games:  1\n",
      "Winning 100.00 percent\n",
      "Losing 0.00 percent\n",
      "Tie 0.00 percent\n"
     ]
    }
   ],
   "source": [
    "g=Game(number_of_games=1)\n",
    "g.run(minimax_agent,human_agent)\n",
    "g.report()"
   ]
  },
  {
   "cell_type": "code",
   "execution_count": null,
   "metadata": {},
   "outputs": [],
   "source": []
  }
 ],
 "metadata": {
  "kernelspec": {
   "display_name": "Python 3",
   "language": "python",
   "name": "python3"
  },
  "language_info": {
   "codemirror_mode": {
    "name": "ipython",
    "version": 3
   },
   "file_extension": ".py",
   "mimetype": "text/x-python",
   "name": "python",
   "nbconvert_exporter": "python",
   "pygments_lexer": "ipython3",
   "version": "3.6.3"
  }
 },
 "nbformat": 4,
 "nbformat_minor": 2
}
