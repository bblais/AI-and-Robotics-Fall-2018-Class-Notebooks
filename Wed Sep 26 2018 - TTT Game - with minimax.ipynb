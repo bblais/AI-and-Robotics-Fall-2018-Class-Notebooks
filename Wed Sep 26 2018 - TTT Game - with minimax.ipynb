{
 "cells": [
  {
   "cell_type": "markdown",
   "metadata": {},
   "source": [
    "## TTT"
   ]
  },
  {
   "cell_type": "code",
   "execution_count": 1,
   "metadata": {},
   "outputs": [
    {
     "name": "stdout",
     "output_type": "stream",
     "text": [
      "Version:  0.2.5\n"
     ]
    }
   ],
   "source": [
    "from Game import *"
   ]
  },
  {
   "cell_type": "code",
   "execution_count": 2,
   "metadata": {},
   "outputs": [],
   "source": [
    "def initial_state():\n",
    "    state=Board(3,3)\n",
    "    state.pieces=['.','X','O']\n",
    "    return state"
   ]
  },
  {
   "cell_type": "code",
   "execution_count": 3,
   "metadata": {},
   "outputs": [],
   "source": [
    "def valid_moves(state,player):\n",
    "    # recall that state is a board, list of 0,1 or 2\n",
    "    bob=[]\n",
    "    for i in range(9):\n",
    "        piece=state[i]\n",
    "        if piece==0:\n",
    "            bob.append(i)\n",
    "    return bob"
   ]
  },
  {
   "cell_type": "code",
   "execution_count": 4,
   "metadata": {},
   "outputs": [],
   "source": [
    "def show_state(state):\n",
    "    print(state[0],state[1],state[2])\n",
    "    print(state[3],state[4],state[5])    \n",
    "    print(state[6],state[7],state[8])"
   ]
  },
  {
   "cell_type": "code",
   "execution_count": 5,
   "metadata": {},
   "outputs": [],
   "source": [
    "def show_state(state):\n",
    "    print(state)"
   ]
  },
  {
   "cell_type": "code",
   "execution_count": 6,
   "metadata": {},
   "outputs": [],
   "source": [
    "def update_state(state,player,move):\n",
    "    new_state=state\n",
    "    new_state[move]=player\n",
    "    return new_state"
   ]
  },
  {
   "cell_type": "code",
   "execution_count": 7,
   "metadata": {},
   "outputs": [],
   "source": [
    "def win_status(state,player):\n",
    "    if state[0]==player and state[1]==player and state[2]==player:\n",
    "        return 'win'\n",
    "    if state[3]==player and state[4]==player and state[5]==player:\n",
    "        return 'win'\n",
    "    if state[6]==player and state[7]==player and state[8]==player:\n",
    "        return 'win'\n",
    "    if state[0]==player and state[3]==player and state[6]==player:\n",
    "        return 'win'\n",
    "    if state[1]==player and state[4]==player and state[7]==player:\n",
    "        return 'win'\n",
    "    if state[2]==player and state[5]==player and state[8]==player:\n",
    "        return 'win'\n",
    "    if state[0]==player and state[4]==player and state[8]==player:\n",
    "        return 'win'\n",
    "    if state[6]==player and state[4]==player and state[2]==player:\n",
    "        return 'win'\n",
    "    \n",
    "    if player==1:\n",
    "        other_player=2\n",
    "    else:\n",
    "        other_player=1\n",
    "        \n",
    "    if not valid_moves(state,other_player):\n",
    "        return 'stalemate'\n",
    "    \n",
    "    "
   ]
  },
  {
   "cell_type": "markdown",
   "metadata": {},
   "source": [
    "some function for agent moves (human, ai)"
   ]
  },
  {
   "cell_type": "code",
   "execution_count": 8,
   "metadata": {},
   "outputs": [],
   "source": [
    "def get_human_move(state,player):\n",
    "    state.show_locations()\n",
    "    move=int(input('Which board position do you move?'))\n",
    "    return move"
   ]
  },
  {
   "cell_type": "code",
   "execution_count": 9,
   "metadata": {},
   "outputs": [],
   "source": [
    "def random_move(state,player):\n",
    "    moves=valid_moves(state,player)\n",
    "    return random.choice(moves)"
   ]
  },
  {
   "cell_type": "code",
   "execution_count": 10,
   "metadata": {},
   "outputs": [],
   "source": [
    "human_agent=Agent(get_human_move)\n",
    "random_agent=Agent(random_move)"
   ]
  },
  {
   "cell_type": "code",
   "execution_count": 15,
   "metadata": {},
   "outputs": [],
   "source": [
    "from Game.minimax import *\n",
    "def minimax_move(state,player):\n",
    "\n",
    "    values,moves=minimax_values(state,player,display=False)\n",
    "    return top_choice(moves,values)\n",
    "\n",
    "minimax_agent=Agent(minimax_move)"
   ]
  },
  {
   "cell_type": "code",
   "execution_count": 18,
   "metadata": {},
   "outputs": [
    {
     "name": "stdout",
     "output_type": "stream",
     "text": [
      "====\n",
      "Game  1\n",
      " .  .  . \n",
      " .  .  . \n",
      " .  .  . \n",
      "\n",
      "Player 1 moves 6\n",
      " .  .  . \n",
      " .  .  . \n",
      " X  .  . \n",
      "\n",
      "Player 2 moves 4\n",
      " .  .  . \n",
      " .  O  . \n",
      " X  .  . \n",
      "\n",
      "Player 1 moves 1\n",
      " .  X  . \n",
      " .  O  . \n",
      " X  .  . \n",
      "\n",
      "Player 2 moves 0\n",
      " O  X  . \n",
      " .  O  . \n",
      " X  .  . \n",
      "\n",
      "Player 1 moves 7\n",
      " O  X  . \n",
      " .  O  . \n",
      " X  X  . \n",
      "\n",
      "Player 2 moves 8\n",
      " O  X  . \n",
      " .  O  . \n",
      " X  X  O \n",
      "\n",
      "Player  2 won.\n",
      "Total number of games:  1\n",
      "Winning 0.00 percent\n",
      "Losing 100.00 percent\n",
      "Tie 0.00 percent\n"
     ]
    }
   ],
   "source": [
    "g=Game(number_of_games=1)\n",
    "g.run(random_agent,minimax_agent)\n",
    "g.report()"
   ]
  },
  {
   "cell_type": "markdown",
   "metadata": {},
   "source": [
    "## Adjust the value for depth"
   ]
  },
  {
   "cell_type": "code",
   "execution_count": 13,
   "metadata": {},
   "outputs": [],
   "source": [
    "from Game.minimax import *\n",
    "def minimax_move(state,player):\n",
    "\n",
    "    values,moves=minimax_values(state,player,adjust_values_by_depth=True)\n",
    "    return top_choice(moves,values)\n",
    "\n",
    "minimax_agent=Agent(minimax_move)"
   ]
  },
  {
   "cell_type": "code",
   "execution_count": 14,
   "metadata": {},
   "outputs": [
    {
     "name": "stdout",
     "output_type": "stream",
     "text": [
      "====\n",
      "Game  1\n",
      " .  .  . \n",
      " .  .  . \n",
      " .  .  . \n",
      "\n",
      "Player 1 moves 3\n",
      " .  .  . \n",
      " X  .  . \n",
      " .  .  . \n",
      "\n",
      "  Choice Time: 1.0648410320281982 seconds \n",
      "Player 2 moves 0\n",
      " O  .  . \n",
      " X  .  . \n",
      " .  .  . \n",
      "\n",
      "Player 1 moves 1\n",
      " O  X  . \n",
      " X  .  . \n",
      " .  .  . \n",
      "\n",
      "  Choice Time: 0.0685739517211914 seconds \n",
      "Player 2 moves 4\n",
      " O  X  . \n",
      " X  O  . \n",
      " .  .  . \n",
      "\n",
      "Player 1 moves 7\n",
      " O  X  . \n",
      " X  O  . \n",
      " .  X  . \n",
      "\n",
      "  Choice Time: 0.00391077995300293 seconds \n",
      "Player 2 moves 8\n",
      " O  X  . \n",
      " X  O  . \n",
      " .  X  O \n",
      "\n",
      "Player  2 won.\n",
      "Total number of games:  1\n",
      "Winning 0.00 percent\n",
      "Losing 100.00 percent\n",
      "Tie 0.00 percent\n"
     ]
    }
   ],
   "source": [
    "g=Game(number_of_games=1)\n",
    "g.run(random_agent,minimax_agent)\n",
    "g.report()"
   ]
  },
  {
   "cell_type": "markdown",
   "metadata": {},
   "source": [
    "## Limit the depth\n",
    "\n",
    "You need to define a heuristic for this"
   ]
  },
  {
   "cell_type": "code",
   "execution_count": 19,
   "metadata": {},
   "outputs": [],
   "source": [
    "from Game.minimax import *\n",
    "def minimax_move(state,player):\n",
    "\n",
    "    values,moves=minimax_values(state,player,adjust_values_by_depth=True,\n",
    "                               maxdepth=2)\n",
    "    return top_choice(moves,values)\n",
    "\n",
    "minimax_agent=Agent(minimax_move)"
   ]
  },
  {
   "cell_type": "code",
   "execution_count": null,
   "metadata": {},
   "outputs": [],
   "source": [
    "def heuristic(state,player):\n",
    "    # return a value from -1 to 1 calculated from a state in the middle of the game\n",
    "    return 0"
   ]
  },
  {
   "cell_type": "code",
   "execution_count": 21,
   "metadata": {},
   "outputs": [
    {
     "name": "stdout",
     "output_type": "stream",
     "text": [
      "====\n",
      "Game  1\n",
      " .  .  . \n",
      " .  .  . \n",
      " .  .  . \n",
      "\n",
      "Player 1 moves 0\n",
      " X  .  . \n",
      " .  .  . \n",
      " .  .  . \n",
      "\n",
      "  Choice Time: 2.0530648231506348 seconds \n",
      "Player 2 moves 1\n",
      " X  O  . \n",
      " .  .  . \n",
      " .  .  . \n",
      "\n",
      "Player 1 moves 7\n",
      " X  O  . \n",
      " .  .  . \n",
      " .  X  . \n",
      "\n",
      "  Choice Time: 0.6480767726898193 seconds \n",
      "Player 2 moves 2\n",
      " X  O  O \n",
      " .  .  . \n",
      " .  X  . \n",
      "\n",
      "Player 1 moves 6\n",
      " X  O  O \n",
      " .  .  . \n",
      " X  X  . \n",
      "\n",
      "  Choice Time: 0.044020891189575195 seconds \n",
      "Player 2 moves 3\n",
      " X  O  O \n",
      " O  .  . \n",
      " X  X  . \n",
      "\n",
      "Player 1 moves 5\n",
      " X  O  O \n",
      " O  .  X \n",
      " X  X  . \n",
      "\n",
      "  Choice Time: 0.0005140304565429688 seconds \n",
      "Player 2 moves 8\n",
      " X  O  O \n",
      " O  .  X \n",
      " X  X  O \n",
      "\n",
      "Player 1 moves 4\n",
      " X  O  O \n",
      " O  X  X \n",
      " X  X  O \n",
      "\n",
      "Neither player won:  stalemate\n",
      "Total number of games:  1\n",
      "Winning 0.00 percent\n",
      "Losing 0.00 percent\n",
      "Tie 100.00 percent\n"
     ]
    }
   ],
   "source": [
    "g=Game(number_of_games=1)\n",
    "g.run(random_agent,minimax_agent)\n",
    "g.report()"
   ]
  },
  {
   "cell_type": "code",
   "execution_count": null,
   "metadata": {},
   "outputs": [],
   "source": []
  }
 ],
 "metadata": {
  "kernelspec": {
   "display_name": "Python 3",
   "language": "python",
   "name": "python3"
  },
  "language_info": {
   "codemirror_mode": {
    "name": "ipython",
    "version": 3
   },
   "file_extension": ".py",
   "mimetype": "text/x-python",
   "name": "python",
   "nbconvert_exporter": "python",
   "pygments_lexer": "ipython3",
   "version": "3.6.3"
  }
 },
 "nbformat": 4,
 "nbformat_minor": 2
}
