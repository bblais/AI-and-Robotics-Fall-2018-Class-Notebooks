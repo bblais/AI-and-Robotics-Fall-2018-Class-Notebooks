{
 "cells": [
  {
   "cell_type": "code",
   "execution_count": 1,
   "metadata": {},
   "outputs": [
    {
     "name": "stdout",
     "output_type": "stream",
     "text": [
      "Version:  0.2.5\n"
     ]
    }
   ],
   "source": [
    "from Game import *\n",
    "\n",
    "def initial_state():\n",
    "    return 20\n",
    "\n",
    "def valid_moves(state,player):\n",
    "    if state==1:\n",
    "        return [1]\n",
    "    elif state==2:\n",
    "        return [1,2]\n",
    "    else:\n",
    "        return [1,2,3]\n",
    "        \n",
    "def show_state(state):\n",
    "    print (\"There are \",state,\" sticks left.\")\n",
    "\n",
    "def update_state(state,player,move):\n",
    "    new_state=state-move\n",
    "    return new_state\n",
    "\n",
    "def win_status(state,player):\n",
    "\n",
    "    if state==1:\n",
    "        return 'win'\n",
    "    \n",
    "    elif state==0:\n",
    "        return 'lose'\n",
    "    \n",
    "    else:\n",
    "        return None\n",
    "\n",
    "\n",
    "def human_move(state,player):\n",
    "\n",
    "    move=input('Take 1, 2 or 3 sticks ')\n",
    "    return move\n",
    "\n",
    "\n",
    "def perfect_move(state,player):\n",
    "    move=(state-1)%4\n",
    "    if move==0:\n",
    "        move=1\n",
    "    return move\n",
    "\n",
    "def random_move(state,player):\n",
    "    move=random_choice(valid_moves(state,player))\n",
    "    return move\n",
    "\n",
    "\n",
    "human_agent=Agent(human_move)\n",
    "random_agent=Agent(random_move)\n",
    "perfect_agent=Agent(perfect_move)\n"
   ]
  },
  {
   "cell_type": "code",
   "execution_count": null,
   "metadata": {},
   "outputs": [],
   "source": [
    "g=Game()\n",
    "wins=g.run(perfect_agent,random_agent)\n",
    "\n",
    "g.report()\n"
   ]
  },
  {
   "cell_type": "code",
   "execution_count": 3,
   "metadata": {},
   "outputs": [],
   "source": [
    "def skittles_move(state,player,info):\n",
    "    \n",
    "    \n",
    "    # imagine I already have a table I'll call S which has some of the state/action pairs\n",
    "    # assume I also have the last_state and last_action defined\n",
    "    \n",
    "    S=info.S\n",
    "    last_action=info.last_action\n",
    "    last_state=info.last_state\n",
    "    \n",
    "    if not state in S:\n",
    "        # add a row for all of the possible actions\n",
    "        S[state]=Table()\n",
    "        for action in valid_moves(state,player):\n",
    "            S[state][action]=1   # only add one skittle for each action\n",
    "    \n",
    "    move=weighted_choice(S[state])\n",
    "    \n",
    "    # if there are no skittles for a state, then the move will be None\n",
    "    \n",
    "    if move is None:\n",
    "        if not last_state:  # just landed in a terrible place to start\n",
    "            return random_move(state,player)\n",
    "        \n",
    "        S[last_state][last_action]=0  # remove the bead\n",
    "        \n",
    "        \n",
    "        return random_move(state,player)\n",
    "    \n",
    "    \n",
    "    \n",
    "    return move\n",
    "    \n",
    "# called afterward\n",
    "def skittle_after(status,player,info):\n",
    "    S=info.S\n",
    "    last_action=info.last_action\n",
    "    last_state=info.last_state\n",
    "    \n",
    "    if status == 'lose':\n",
    "        S[last_state][last_action]=0  # remove the bead\n",
    "    \n",
    "    "
   ]
  },
  {
   "cell_type": "code",
   "execution_count": null,
   "metadata": {},
   "outputs": [],
   "source": []
  },
  {
   "cell_type": "code",
   "execution_count": 4,
   "metadata": {},
   "outputs": [],
   "source": [
    "skittles_agent=Agent(skittles_move)\n",
    "skittles_agent.post=skittle_after\n",
    "skittles_agent.S=Table()  # initial table"
   ]
  },
  {
   "cell_type": "code",
   "execution_count": null,
   "metadata": {},
   "outputs": [],
   "source": []
  },
  {
   "cell_type": "code",
   "execution_count": 10,
   "metadata": {},
   "outputs": [
    {
     "name": "stdout",
     "output_type": "stream",
     "text": [
      "Total number of games:  25\n",
      "Winning 100.00 percent\n",
      "Losing 0.00 percent\n",
      "Tie 0.00 percent\n"
     ]
    }
   ],
   "source": [
    "g=Game(number_of_games=25)\n",
    "g.display=False\n",
    "wins=g.run(skittles_agent,perfect_agent)\n",
    "\n",
    "g.report()\n"
   ]
  },
  {
   "cell_type": "code",
   "execution_count": 11,
   "metadata": {},
   "outputs": [
    {
     "data": {
      "text/plain": [
       "{4: {1: 0, 2: 0, 3: 1},\n",
       " 5: {1: 0, 2: 0, 3: 0},\n",
       " 8: {1: 0, 2: 0, 3: 1},\n",
       " 9: {1: 0, 2: 0, 3: 0},\n",
       " 12: {1: 0, 2: 0, 3: 1},\n",
       " 13: {1: 0, 2: 0, 3: 0},\n",
       " 16: {1: 0, 2: 0, 3: 1},\n",
       " 17: {1: 0, 2: 0, 3: 0},\n",
       " 20: {1: 0, 2: 0, 3: 1}}"
      ]
     },
     "execution_count": 11,
     "metadata": {},
     "output_type": "execute_result"
    }
   ],
   "source": [
    "skittles_agent.S"
   ]
  },
  {
   "cell_type": "code",
   "execution_count": null,
   "metadata": {},
   "outputs": [],
   "source": []
  },
  {
   "cell_type": "code",
   "execution_count": null,
   "metadata": {},
   "outputs": [],
   "source": []
  },
  {
   "cell_type": "code",
   "execution_count": null,
   "metadata": {},
   "outputs": [],
   "source": []
  }
 ],
 "metadata": {
  "kernelspec": {
   "display_name": "Python 3",
   "language": "python",
   "name": "python3"
  },
  "language_info": {
   "codemirror_mode": {
    "name": "ipython",
    "version": 3
   },
   "file_extension": ".py",
   "mimetype": "text/x-python",
   "name": "python",
   "nbconvert_exporter": "python",
   "pygments_lexer": "ipython3",
   "version": "3.6.3"
  }
 },
 "nbformat": 4,
 "nbformat_minor": 2
}
