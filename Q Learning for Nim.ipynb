{
 "cells": [
  {
   "cell_type": "code",
   "execution_count": 9,
   "metadata": {
    "collapsed": false
   },
   "outputs": [],
   "source": [
    "from Game import *\n",
    "\n",
    "def initial_state():\n",
    "    return randint(15,25)\n",
    "\n",
    "def valid_moves(state,player):\n",
    "    if state==1:\n",
    "        return [1]\n",
    "    elif state==2:\n",
    "        return [1,2]\n",
    "    else:\n",
    "        return [1,2,3]\n",
    "        \n",
    "def show_state(state):\n",
    "    print (\"There are \",state,\" sticks left.\")\n",
    "\n",
    "def update_state(state,player,move):\n",
    "    new_state=state-move\n",
    "    return new_state\n",
    "\n",
    "def win_status(state,player):\n",
    "\n",
    "    if state==1:\n",
    "        return 'win'\n",
    "    \n",
    "    elif state==0:\n",
    "        return 'lose'\n",
    "    \n",
    "    else:\n",
    "        return None\n",
    "\n",
    "\n",
    "def human_move(state,player):\n",
    "\n",
    "    move=input('Take 1, 2 or 3 sticks ')\n",
    "    return move\n",
    "\n",
    "\n",
    "def perfect_move(state,player):\n",
    "    move=(state-1)%4\n",
    "    if move==0:\n",
    "        move=1\n",
    "    return move\n",
    "\n",
    "def random_move(state,player):\n",
    "    move=random_choice(valid_moves(state,player))\n",
    "    return move\n",
    "\n",
    "\n",
    "human_agent=Agent(human_move)\n",
    "random_agent=Agent(random_move)\n",
    "perfect_agent=Agent(perfect_move)\n"
   ]
  },
  {
   "cell_type": "code",
   "execution_count": 13,
   "metadata": {
    "collapsed": false
   },
   "outputs": [],
   "source": [
    "def Q_move(state,player,info):\n",
    "    Q=info.Q\n",
    "    last_action=info.last_action\n",
    "    last_state=info.last_state\n",
    "    \n",
    "    alpha=info.alpha  # learning rate\n",
    "    gamma=info.gamma  # memory \n",
    "    epsilon=info.epsilon  # probability of doing random move\n",
    "    \n",
    "    if not state in Q:\n",
    "        Q[state]=Table()\n",
    "        for action in valid_moves(state,player):\n",
    "            Q[state][action]=0.0\n",
    "            \n",
    "    if random.random()<epsilon:  # random move\n",
    "        action=random_choice(Q[state])\n",
    "    else:\n",
    "        action=top_choice(Q[state])\n",
    "        \n",
    "        \n",
    "    if not last_action is None:  # anything but the first move\n",
    "        r=0.0\n",
    "        Q[last_state][last_action]+=alpha*(r + \n",
    "            gamma*max([Q[state][a] for a in Q[state]]) -\n",
    "            Q[last_state][last_action] )\n",
    "        \n",
    "    return action\n",
    "\n",
    "def Q_post(status,player,info):\n",
    "    Q=info.Q\n",
    "    last_action=info.last_action\n",
    "    last_state=info.last_state\n",
    "    \n",
    "    alpha=info.alpha  # learning rate\n",
    "    gamma=info.gamma  # memory \n",
    "    epsilon=info.epsilon  # probability of doing random move\n",
    "\n",
    "    if status=='lose':\n",
    "        r=-1.0\n",
    "    elif status=='win':\n",
    "        r=1.0\n",
    "    else:\n",
    "        r=0.0\n",
    "        \n",
    "    if not last_action is None:  # anything but the first move\n",
    "        Q[last_state][last_action]+=alpha*(r -\n",
    "            Q[last_state][last_action] )\n",
    "        "
   ]
  },
  {
   "cell_type": "code",
   "execution_count": 14,
   "metadata": {
    "collapsed": false
   },
   "outputs": [],
   "source": [
    "Q_agent=Agent(Q_move)\n",
    "Q_agent.post=Q_post\n",
    "\n",
    "Q_agent.Q=Remember(filename='Q_data.dat')\n",
    "Q_agent.alpha=0.3  # learning rate\n",
    "Q_agent.gamma=0.9  # memory\n",
    "Q_agent.epsilon=0.1  # chance of making a random move"
   ]
  },
  {
   "cell_type": "code",
   "execution_count": 15,
   "metadata": {
    "collapsed": false
   },
   "outputs": [
    {
     "name": "stdout",
     "output_type": "stream",
     "text": [
      "====\n",
      "Game  1\n",
      "There are  20  sticks left.\n",
      "Player 1 moves 3\n",
      "There are  17  sticks left.\n",
      "Player 2 moves 1\n",
      "There are  16  sticks left.\n",
      "Player 1 moves 3\n",
      "There are  13  sticks left.\n",
      "Player 2 moves 1\n",
      "There are  12  sticks left.\n",
      "Player 1 moves 3\n",
      "There are  9  sticks left.\n",
      "Player 2 moves 1\n",
      "There are  8  sticks left.\n",
      "Player 1 moves 3\n",
      "There are  5  sticks left.\n",
      "Player 2 moves 1\n",
      "There are  4  sticks left.\n",
      "Player 1 moves 3\n",
      "There are  1  sticks left.\n",
      "Player  1 won.\n",
      "Total number of games:  1\n",
      "Winning 100.00 percent\n",
      "Losing 0.00 percent\n",
      "Tie 0.00 percent\n"
     ]
    }
   ],
   "source": [
    "g=Game()\n",
    "g.run(Q_agent,perfect_agent)\n",
    "g.report()"
   ]
  },
  {
   "cell_type": "code",
   "execution_count": 16,
   "metadata": {
    "collapsed": false
   },
   "outputs": [
    {
     "data": {
      "text/plain": [
       "{4: {1: 0.0, 2: 0.0, 3: 0.3},\n",
       " 8: {1: 0.0, 2: 0.0, 3: 0.0},\n",
       " 12: {1: 0.0, 2: 0.0, 3: 0.0},\n",
       " 16: {1: 0.0, 2: 0.0, 3: 0.0},\n",
       " 20: {1: 0.0, 2: 0.0, 3: 0.0}}"
      ]
     },
     "execution_count": 16,
     "metadata": {},
     "output_type": "execute_result"
    }
   ],
   "source": [
    "Q_agent.Q"
   ]
  },
  {
   "cell_type": "markdown",
   "metadata": {},
   "source": [
    "While learning, set epsilon to 0.1"
   ]
  },
  {
   "cell_type": "code",
   "execution_count": 17,
   "metadata": {
    "collapsed": false
   },
   "outputs": [
    {
     "name": "stdout",
     "output_type": "stream",
     "text": [
      "Total number of games:  1000\n",
      "Winning 49.50 percent\n",
      "Losing 50.50 percent\n",
      "Tie 0.00 percent\n"
     ]
    }
   ],
   "source": [
    "Q_agent.epsilon=0.1\n",
    "\n",
    "g=Game(number_of_games=1000)\n",
    "g.display=False\n",
    "g.run(Q_agent,perfect_agent)\n",
    "Remember(Q_agent.Q,filename='Q_data.dat')\n",
    "g.report()"
   ]
  },
  {
   "cell_type": "code",
   "execution_count": 18,
   "metadata": {
    "collapsed": false
   },
   "outputs": [
    {
     "data": {
      "text/plain": [
       "{4: {1: -0.9802267325699999, 2: -0.9976736948601279, 3: 0.9999999999999999},\n",
       " 5: {1: -0.9999999999999999, 2: -0.9999999999999999, 3: -0.9999999999999999},\n",
       " 8: {1: -0.8999458497115415, 2: -0.8996447914918484, 3: 0.8999999999999998},\n",
       " 9: {1: -0.8999999999999998, 2: -0.8999999999999998, 3: -0.8999999999999998},\n",
       " 12: {1: -0.8095456441527977, 2: -0.8095410356342704, 3: 0.8099999999999997},\n",
       " 13: {1: -0.8099999999999997, 2: -0.8099999999999997, 3: -0.8099999999999997},\n",
       " 15: {1: -0.2687603840722708, 2: 0.7289999999996157, 3: -0.6357260094845962},\n",
       " 16: {1: -0.7275125008615304, 2: -0.7281594284287439, 3: 0.7289999999999996},\n",
       " 17: {1: -0.7289999999999976, 2: -0.7289999999999981, 3: -0.728999999999998},\n",
       " 18: {1: 0.656099999999967, 2: -0.5563359303749515, 3: -0.548915855099521},\n",
       " 19: {1: -0.19655038985347068,\n",
       "  2: 0.6560999999998212,\n",
       "  3: -0.029878794000000004},\n",
       " 20: {1: -0.6122984463304509, 2: -0.6454440910244558, 3: 0.6560999999999996},\n",
       " 21: {1: -0.656099999483206, 2: -0.6560999994351752, 3: -0.6560999995657932},\n",
       " 22: {1: 0.5904899999923097, 2: -0.36403130841247006, 3: -0.5510079019920644},\n",
       " 23: {1: -0.38794514766173666, 2: 0.5904899999999731, 3: -0.5394388891501479},\n",
       " 24: {1: -0.1921271726508731, 2: -0.3493828953408647, 3: 0.5904899999993818},\n",
       " 25: {1: -0.5903889295691404, 2: -0.5904101233627045, 3: -0.5904018040323372}}"
      ]
     },
     "execution_count": 18,
     "metadata": {},
     "output_type": "execute_result"
    }
   ],
   "source": [
    "Q_agent.Q"
   ]
  },
  {
   "cell_type": "markdown",
   "metadata": {},
   "source": [
    "When we want to see how good it really is, turn off epsilon (no random moves)"
   ]
  },
  {
   "cell_type": "code",
   "execution_count": 19,
   "metadata": {
    "collapsed": false
   },
   "outputs": [
    {
     "name": "stdout",
     "output_type": "stream",
     "text": [
      "Total number of games:  1000\n",
      "Winning 72.00 percent\n",
      "Losing 28.00 percent\n",
      "Tie 0.00 percent\n"
     ]
    }
   ],
   "source": [
    "Q_agent.epsilon=0.0\n",
    "\n",
    "g=Game(number_of_games=1000)\n",
    "g.display=False\n",
    "g.run(Q_agent,perfect_agent)\n",
    "Remember(Q_agent.Q,filename='Q_data.dat')\n",
    "g.report()"
   ]
  },
  {
   "cell_type": "markdown",
   "metadata": {},
   "source": [
    "## Can a Q-agent play against another?"
   ]
  },
  {
   "cell_type": "code",
   "execution_count": 20,
   "metadata": {
    "collapsed": false
   },
   "outputs": [
    {
     "name": "stdout",
     "output_type": "stream",
     "text": [
      "Resetting the database Q1_data.dat\n",
      "Resetting the database Q2_data.dat\n"
     ]
    }
   ],
   "source": [
    "Q1_agent=Agent(Q_move)\n",
    "Q1_agent.post=Q_post\n",
    "\n",
    "Q1_agent.Q=Remember(filename='Q1_data.dat')\n",
    "Q1_agent.alpha=0.3  # learning rate\n",
    "Q1_agent.gamma=0.9  # memory\n",
    "Q1_agent.epsilon=0.1  # chance of making a random move\n",
    "\n",
    "Q2_agent=Agent(Q_move)\n",
    "Q2_agent.post=Q_post\n",
    "\n",
    "Q2_agent.Q=Remember(filename='Q2_data.dat')\n",
    "Q2_agent.alpha=0.3  # learning rate\n",
    "Q2_agent.gamma=0.9  # memory\n",
    "Q2_agent.epsilon=0.1  # chance of making a random move\n"
   ]
  },
  {
   "cell_type": "code",
   "execution_count": 21,
   "metadata": {
    "collapsed": false
   },
   "outputs": [
    {
     "name": "stdout",
     "output_type": "stream",
     "text": [
      "Total number of games:  1000\n",
      "Winning 60.20 percent\n",
      "Losing 39.80 percent\n",
      "Tie 0.00 percent\n"
     ]
    }
   ],
   "source": [
    "Q1_agent.epsilon=0.1\n",
    "Q2_agent.epsilon=0.1\n",
    "\n",
    "g=Game(number_of_games=1000)\n",
    "g.display=False\n",
    "g.run(Q1_agent,Q2_agent)\n",
    "Remember(Q1_agent.Q,filename='Q1_data.dat')\n",
    "Remember(Q2_agent.Q,filename='Q2_data.dat')\n",
    "g.report()"
   ]
  },
  {
   "cell_type": "code",
   "execution_count": 22,
   "metadata": {
    "collapsed": false
   },
   "outputs": [
    {
     "name": "stdout",
     "output_type": "stream",
     "text": [
      "Total number of games:  1000\n",
      "Winning 70.70 percent\n",
      "Losing 29.30 percent\n",
      "Tie 0.00 percent\n"
     ]
    }
   ],
   "source": [
    "Q1_agent.epsilon=0.0\n",
    "Q2_agent.epsilon=0.0\n",
    "Q1_agent.alpha=0.0\n",
    "Q2_agent.alpha=0.0\n",
    "\n",
    "g=Game(number_of_games=1000)\n",
    "g.display=False\n",
    "g.run(Q1_agent,perfect_agent)\n",
    "g.report()"
   ]
  },
  {
   "cell_type": "code",
   "execution_count": 23,
   "metadata": {
    "collapsed": false
   },
   "outputs": [
    {
     "name": "stdout",
     "output_type": "stream",
     "text": [
      "Total number of games:  1000\n",
      "Winning 72.80 percent\n",
      "Losing 27.20 percent\n",
      "Tie 0.00 percent\n"
     ]
    }
   ],
   "source": [
    "Q1_agent.epsilon=0.0\n",
    "Q2_agent.epsilon=0.0\n",
    "Q1_agent.alpha=0.0\n",
    "Q2_agent.alpha=0.0\n",
    "\n",
    "g=Game(number_of_games=1000)\n",
    "g.display=False\n",
    "g.run(perfect_agent,Q2_agent)\n",
    "g.report()"
   ]
  },
  {
   "cell_type": "code",
   "execution_count": null,
   "metadata": {
    "collapsed": false
   },
   "outputs": [],
   "source": []
  },
  {
   "cell_type": "code",
   "execution_count": null,
   "metadata": {
    "collapsed": true
   },
   "outputs": [],
   "source": []
  }
 ],
 "metadata": {
  "anaconda-cloud": {},
  "kernelspec": {
   "display_name": "Python 3",
   "language": "python",
   "name": "python3"
  },
  "language_info": {
   "codemirror_mode": {
    "name": "ipython",
    "version": 3
   },
   "file_extension": ".py",
   "mimetype": "text/x-python",
   "name": "python",
   "nbconvert_exporter": "python",
   "pygments_lexer": "ipython3",
   "version": "3.6.3"
  }
 },
 "nbformat": 4,
 "nbformat_minor": 2
}
