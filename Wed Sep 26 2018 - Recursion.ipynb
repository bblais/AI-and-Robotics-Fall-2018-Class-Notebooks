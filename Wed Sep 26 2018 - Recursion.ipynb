{
 "cells": [
  {
   "cell_type": "code",
   "execution_count": 9,
   "metadata": {},
   "outputs": [],
   "source": [
    "def factorial(N):\n",
    "    if N==100:\n",
    "        return 1\n",
    "    else:\n",
    "        return N*factorial(N-1)"
   ]
  },
  {
   "cell_type": "code",
   "execution_count": 10,
   "metadata": {},
   "outputs": [
    {
     "ename": "RecursionError",
     "evalue": "maximum recursion depth exceeded in comparison",
     "output_type": "error",
     "traceback": [
      "\u001b[0;31m---------------------------------------------------------------------------\u001b[0m",
      "\u001b[0;31mRecursionError\u001b[0m                            Traceback (most recent call last)",
      "\u001b[0;32m<ipython-input-10-637175d621a4>\u001b[0m in \u001b[0;36m<module>\u001b[0;34m()\u001b[0m\n\u001b[0;32m----> 1\u001b[0;31m \u001b[0mfactorial\u001b[0m\u001b[0;34m(\u001b[0m\u001b[0;36m5\u001b[0m\u001b[0;34m)\u001b[0m\u001b[0;34m\u001b[0m\u001b[0m\n\u001b[0m",
      "\u001b[0;32m<ipython-input-9-8021af47336c>\u001b[0m in \u001b[0;36mfactorial\u001b[0;34m(N)\u001b[0m\n\u001b[1;32m      3\u001b[0m         \u001b[0;32mreturn\u001b[0m \u001b[0;36m1\u001b[0m\u001b[0;34m\u001b[0m\u001b[0m\n\u001b[1;32m      4\u001b[0m     \u001b[0;32melse\u001b[0m\u001b[0;34m:\u001b[0m\u001b[0;34m\u001b[0m\u001b[0m\n\u001b[0;32m----> 5\u001b[0;31m         \u001b[0;32mreturn\u001b[0m \u001b[0mN\u001b[0m\u001b[0;34m*\u001b[0m\u001b[0mfactorial\u001b[0m\u001b[0;34m(\u001b[0m\u001b[0mN\u001b[0m\u001b[0;34m-\u001b[0m\u001b[0;36m1\u001b[0m\u001b[0;34m)\u001b[0m\u001b[0;34m\u001b[0m\u001b[0m\n\u001b[0m",
      "... last 1 frames repeated, from the frame below ...\n",
      "\u001b[0;32m<ipython-input-9-8021af47336c>\u001b[0m in \u001b[0;36mfactorial\u001b[0;34m(N)\u001b[0m\n\u001b[1;32m      3\u001b[0m         \u001b[0;32mreturn\u001b[0m \u001b[0;36m1\u001b[0m\u001b[0;34m\u001b[0m\u001b[0m\n\u001b[1;32m      4\u001b[0m     \u001b[0;32melse\u001b[0m\u001b[0;34m:\u001b[0m\u001b[0;34m\u001b[0m\u001b[0m\n\u001b[0;32m----> 5\u001b[0;31m         \u001b[0;32mreturn\u001b[0m \u001b[0mN\u001b[0m\u001b[0;34m*\u001b[0m\u001b[0mfactorial\u001b[0m\u001b[0;34m(\u001b[0m\u001b[0mN\u001b[0m\u001b[0;34m-\u001b[0m\u001b[0;36m1\u001b[0m\u001b[0;34m)\u001b[0m\u001b[0;34m\u001b[0m\u001b[0m\n\u001b[0m",
      "\u001b[0;31mRecursionError\u001b[0m: maximum recursion depth exceeded in comparison"
     ]
    }
   ],
   "source": [
    "factorial(5)"
   ]
  },
  {
   "cell_type": "code",
   "execution_count": 7,
   "metadata": {},
   "outputs": [],
   "source": [
    "def factorial(N):\n",
    "    if N==0:\n",
    "        print(\"Stopping at \", N)\n",
    "        return 1\n",
    "    else:\n",
    "        print(\"Calling \",N,\" times factorial of \", N-1)\n",
    "\n",
    "        return N*factorial(N-1)"
   ]
  },
  {
   "cell_type": "code",
   "execution_count": 4,
   "metadata": {},
   "outputs": [
    {
     "name": "stdout",
     "output_type": "stream",
     "text": [
      "Calling  5  times factorial of  4\n",
      "Calling  4  times factorial of  3\n",
      "Calling  3  times factorial of  2\n",
      "Calling  2  times factorial of  1\n",
      "Calling  1  times factorial of  0\n",
      "Stopping at  0\n"
     ]
    },
    {
     "data": {
      "text/plain": [
       "120"
      ]
     },
     "execution_count": 4,
     "metadata": {},
     "output_type": "execute_result"
    }
   ],
   "source": [
    "factorial(5)"
   ]
  },
  {
   "cell_type": "code",
   "execution_count": null,
   "metadata": {},
   "outputs": [],
   "source": []
  },
  {
   "cell_type": "code",
   "execution_count": null,
   "metadata": {},
   "outputs": [],
   "source": []
  },
  {
   "cell_type": "code",
   "execution_count": null,
   "metadata": {},
   "outputs": [],
   "source": []
  },
  {
   "cell_type": "code",
   "execution_count": null,
   "metadata": {},
   "outputs": [],
   "source": []
  },
  {
   "cell_type": "code",
   "execution_count": null,
   "metadata": {},
   "outputs": [],
   "source": []
  },
  {
   "cell_type": "code",
   "execution_count": null,
   "metadata": {},
   "outputs": [],
   "source": []
  },
  {
   "cell_type": "code",
   "execution_count": 8,
   "metadata": {},
   "outputs": [
    {
     "data": {
      "text/plain": [
       "93326215443944152681699238856266700490715968264381621468592963895217599993229915608941463976156518286253697920827223758251185210916864000000000000000000000000"
      ]
     },
     "execution_count": 8,
     "metadata": {},
     "output_type": "execute_result"
    }
   ],
   "source": [
    "factorial(100)"
   ]
  },
  {
   "cell_type": "code",
   "execution_count": null,
   "metadata": {},
   "outputs": [],
   "source": []
  },
  {
   "cell_type": "code",
   "execution_count": null,
   "metadata": {},
   "outputs": [],
   "source": []
  },
  {
   "cell_type": "code",
   "execution_count": null,
   "metadata": {},
   "outputs": [],
   "source": []
  },
  {
   "cell_type": "code",
   "execution_count": null,
   "metadata": {},
   "outputs": [],
   "source": []
  },
  {
   "cell_type": "code",
   "execution_count": null,
   "metadata": {},
   "outputs": [],
   "source": []
  },
  {
   "cell_type": "code",
   "execution_count": null,
   "metadata": {},
   "outputs": [],
   "source": []
  },
  {
   "cell_type": "code",
   "execution_count": null,
   "metadata": {},
   "outputs": [],
   "source": []
  },
  {
   "cell_type": "code",
   "execution_count": 28,
   "metadata": {},
   "outputs": [],
   "source": [
    "def hanoi(n,A=0,B=1,C=2):\n",
    "    if n == 0:\n",
    "        return\n",
    "\n",
    "    # move n-1 from A-->B\n",
    "    hanoi(n-1, A, C, B)\n",
    "    print(\"Move from \",A,\" to \",C)\n",
    "\n",
    "    # move n-1 from B-->C\n",
    "    hanoi(n-1, B, A, C)"
   ]
  },
  {
   "cell_type": "code",
   "execution_count": 29,
   "metadata": {},
   "outputs": [],
   "source": [
    "def show_state(state):\n",
    "    for peg in state:\n",
    "        print(\"=\",end=\"\")\n",
    "        for disk in peg:\n",
    "            print(disk,\" \",end=\"\")\n",
    "        print()\n",
    "    print()\n",
    "    \n",
    "def hanoi(n,A=0,B=1,C=2):\n",
    "    if n == 0:\n",
    "        return\n",
    "\n",
    "    # move n-1 from A-->B\n",
    "    hanoi(n-1, A, C, B)\n",
    "\n",
    "    disk=state[A].pop()\n",
    "    state[C].append(disk)\n",
    "    print(\"Move from \",A,\" to \",C)\n",
    "    show_state(state)\n",
    "\n",
    "    # move n-1 from B-->C\n",
    "    hanoi(n-1, B, A, C)"
   ]
  },
  {
   "cell_type": "code",
   "execution_count": 30,
   "metadata": {},
   "outputs": [
    {
     "name": "stdout",
     "output_type": "stream",
     "text": [
      "Move from  0  to  1\n",
      "=4  3  2  \n",
      "=1  \n",
      "=\n",
      "\n",
      "Move from  0  to  2\n",
      "=4  3  \n",
      "=1  \n",
      "=2  \n",
      "\n",
      "Move from  1  to  2\n",
      "=4  3  \n",
      "=\n",
      "=2  1  \n",
      "\n",
      "Move from  0  to  1\n",
      "=4  \n",
      "=3  \n",
      "=2  1  \n",
      "\n",
      "Move from  2  to  0\n",
      "=4  1  \n",
      "=3  \n",
      "=2  \n",
      "\n",
      "Move from  2  to  1\n",
      "=4  1  \n",
      "=3  2  \n",
      "=\n",
      "\n",
      "Move from  0  to  1\n",
      "=4  \n",
      "=3  2  1  \n",
      "=\n",
      "\n",
      "Move from  0  to  2\n",
      "=\n",
      "=3  2  1  \n",
      "=4  \n",
      "\n",
      "Move from  1  to  2\n",
      "=\n",
      "=3  2  \n",
      "=4  1  \n",
      "\n",
      "Move from  1  to  0\n",
      "=2  \n",
      "=3  \n",
      "=4  1  \n",
      "\n",
      "Move from  2  to  0\n",
      "=2  1  \n",
      "=3  \n",
      "=4  \n",
      "\n",
      "Move from  1  to  2\n",
      "=2  1  \n",
      "=\n",
      "=4  3  \n",
      "\n",
      "Move from  0  to  1\n",
      "=2  \n",
      "=1  \n",
      "=4  3  \n",
      "\n",
      "Move from  0  to  2\n",
      "=\n",
      "=1  \n",
      "=4  3  2  \n",
      "\n",
      "Move from  1  to  2\n",
      "=\n",
      "=\n",
      "=4  3  2  1  \n",
      "\n"
     ]
    }
   ],
   "source": [
    "state=[[4,3,2,1],[],[]]\n",
    "hanoi(len(state[0]))"
   ]
  },
  {
   "cell_type": "code",
   "execution_count": null,
   "metadata": {},
   "outputs": [],
   "source": []
  },
  {
   "cell_type": "code",
   "execution_count": null,
   "metadata": {},
   "outputs": [],
   "source": []
  }
 ],
 "metadata": {
  "kernelspec": {
   "display_name": "Python 3",
   "language": "python",
   "name": "python3"
  },
  "language_info": {
   "codemirror_mode": {
    "name": "ipython",
    "version": 3
   },
   "file_extension": ".py",
   "mimetype": "text/x-python",
   "name": "python",
   "nbconvert_exporter": "python",
   "pygments_lexer": "ipython3",
   "version": "3.6.3"
  }
 },
 "nbformat": 4,
 "nbformat_minor": 2
}
