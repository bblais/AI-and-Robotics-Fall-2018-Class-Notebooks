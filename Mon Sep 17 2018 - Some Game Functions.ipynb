{
 "cells": [
  {
   "cell_type": "code",
   "execution_count": 1,
   "metadata": {},
   "outputs": [
    {
     "name": "stdout",
     "output_type": "stream",
     "text": [
      "Version:  0.2.5\n"
     ]
    }
   ],
   "source": [
    "from Game import *"
   ]
  },
  {
   "cell_type": "code",
   "execution_count": 4,
   "metadata": {},
   "outputs": [],
   "source": [
    "state=Board(15,13)"
   ]
  },
  {
   "cell_type": "code",
   "execution_count": null,
   "metadata": {},
   "outputs": [],
   "source": []
  },
  {
   "cell_type": "code",
   "execution_count": null,
   "metadata": {},
   "outputs": [],
   "source": []
  },
  {
   "cell_type": "code",
   "execution_count": null,
   "metadata": {},
   "outputs": [],
   "source": []
  },
  {
   "cell_type": "code",
   "execution_count": 15,
   "metadata": {},
   "outputs": [],
   "source": [
    "def myfunction(state):\n",
    "    state"
   ]
  },
  {
   "cell_type": "code",
   "execution_count": 12,
   "metadata": {},
   "outputs": [],
   "source": [
    "def myfunction2(state):\n",
    "    print(state)"
   ]
  },
  {
   "cell_type": "code",
   "execution_count": 13,
   "metadata": {},
   "outputs": [
    {
     "name": "stdout",
     "output_type": "stream",
     "text": [
      " 0  0  3  0  0  0  0  0  0  0  0  0  0 \n",
      " 0  0  0  0  0  0  0  0  0  0  0  0  3 \n",
      " 0  0  0  0  0  0  0  0  0  0  0  0  0 \n",
      " 0  0  0  0  0  0  0  0  0  0  0  0  0 \n",
      " 0  0  0  0  0  0  0  0  0  0  0  0  0 \n",
      " 0  0  4  0  0  0  0  0  0  0  0  0  0 \n",
      " 0  0  0  0  0  0  0  0  0  0  0  0  0 \n",
      " 0  0  0  0  0  0  0  0  0  0  0  0  0 \n",
      " 0  0  0  0  0  0  0  0  0  0  0  0  0 \n",
      " 0  0  0  0  0  0  0  0  0  0  0  0  0 \n",
      " 0  0  0  0  0  0  0  0  0  0  0  0  0 \n",
      " 0  0  0  0  0  0  0  0  0  0  0  0  0 \n",
      " 0  0  0  0  0  0  0  0  0  0  0  0  0 \n",
      " 0  0  0  0  0  0  0  0  0  0  0  0  0 \n",
      " 0  0  0  0  0  0  0  0  0  0  0  0  0 \n",
      "\n"
     ]
    }
   ],
   "source": [
    "myfunction2(state)"
   ]
  },
  {
   "cell_type": "code",
   "execution_count": 16,
   "metadata": {},
   "outputs": [],
   "source": [
    "myfunction(state)"
   ]
  },
  {
   "cell_type": "code",
   "execution_count": 5,
   "metadata": {},
   "outputs": [
    {
     "name": "stdout",
     "output_type": "stream",
     "text": [
      " 0  0  0  0  0  0  0  0  0  0  0  0  0 \n",
      " 0  0  0  0  0  0  0  0  0  0  0  0  0 \n",
      " 0  0  0  0  0  0  0  0  0  0  0  0  0 \n",
      " 0  0  0  0  0  0  0  0  0  0  0  0  0 \n",
      " 0  0  0  0  0  0  0  0  0  0  0  0  0 \n",
      " 0  0  0  0  0  0  0  0  0  0  0  0  0 \n",
      " 0  0  0  0  0  0  0  0  0  0  0  0  0 \n",
      " 0  0  0  0  0  0  0  0  0  0  0  0  0 \n",
      " 0  0  0  0  0  0  0  0  0  0  0  0  0 \n",
      " 0  0  0  0  0  0  0  0  0  0  0  0  0 \n",
      " 0  0  0  0  0  0  0  0  0  0  0  0  0 \n",
      " 0  0  0  0  0  0  0  0  0  0  0  0  0 \n",
      " 0  0  0  0  0  0  0  0  0  0  0  0  0 \n",
      " 0  0  0  0  0  0  0  0  0  0  0  0  0 \n",
      " 0  0  0  0  0  0  0  0  0  0  0  0  0 \n",
      "\n"
     ]
    }
   ],
   "source": [
    "print(state)"
   ]
  },
  {
   "cell_type": "code",
   "execution_count": 8,
   "metadata": {},
   "outputs": [],
   "source": [
    "state[25]=3"
   ]
  },
  {
   "cell_type": "code",
   "execution_count": 9,
   "metadata": {},
   "outputs": [
    {
     "data": {
      "text/plain": [
       " 0  0  3  0  0  0  0  0  0  0  0  0  0 \n",
       " 0  0  0  0  0  0  0  0  0  0  0  0  3 \n",
       " 0  0  0  0  0  0  0  0  0  0  0  0  0 \n",
       " 0  0  0  0  0  0  0  0  0  0  0  0  0 \n",
       " 0  0  0  0  0  0  0  0  0  0  0  0  0 \n",
       " 0  0  0  0  0  0  0  0  0  0  0  0  0 \n",
       " 0  0  0  0  0  0  0  0  0  0  0  0  0 \n",
       " 0  0  0  0  0  0  0  0  0  0  0  0  0 \n",
       " 0  0  0  0  0  0  0  0  0  0  0  0  0 \n",
       " 0  0  0  0  0  0  0  0  0  0  0  0  0 \n",
       " 0  0  0  0  0  0  0  0  0  0  0  0  0 \n",
       " 0  0  0  0  0  0  0  0  0  0  0  0  0 \n",
       " 0  0  0  0  0  0  0  0  0  0  0  0  0 \n",
       " 0  0  0  0  0  0  0  0  0  0  0  0  0 \n",
       " 0  0  0  0  0  0  0  0  0  0  0  0  0 "
      ]
     },
     "execution_count": 9,
     "metadata": {},
     "output_type": "execute_result"
    }
   ],
   "source": [
    "state"
   ]
  },
  {
   "cell_type": "code",
   "execution_count": 10,
   "metadata": {},
   "outputs": [],
   "source": [
    "state[5,2]=4"
   ]
  },
  {
   "cell_type": "code",
   "execution_count": 11,
   "metadata": {},
   "outputs": [
    {
     "data": {
      "text/plain": [
       " 0  0  3  0  0  0  0  0  0  0  0  0  0 \n",
       " 0  0  0  0  0  0  0  0  0  0  0  0  3 \n",
       " 0  0  0  0  0  0  0  0  0  0  0  0  0 \n",
       " 0  0  0  0  0  0  0  0  0  0  0  0  0 \n",
       " 0  0  0  0  0  0  0  0  0  0  0  0  0 \n",
       " 0  0  4  0  0  0  0  0  0  0  0  0  0 \n",
       " 0  0  0  0  0  0  0  0  0  0  0  0  0 \n",
       " 0  0  0  0  0  0  0  0  0  0  0  0  0 \n",
       " 0  0  0  0  0  0  0  0  0  0  0  0  0 \n",
       " 0  0  0  0  0  0  0  0  0  0  0  0  0 \n",
       " 0  0  0  0  0  0  0  0  0  0  0  0  0 \n",
       " 0  0  0  0  0  0  0  0  0  0  0  0  0 \n",
       " 0  0  0  0  0  0  0  0  0  0  0  0  0 \n",
       " 0  0  0  0  0  0  0  0  0  0  0  0  0 \n",
       " 0  0  0  0  0  0  0  0  0  0  0  0  0 "
      ]
     },
     "execution_count": 11,
     "metadata": {},
     "output_type": "execute_result"
    }
   ],
   "source": [
    "state"
   ]
  },
  {
   "cell_type": "code",
   "execution_count": 17,
   "metadata": {},
   "outputs": [
    {
     "name": "stdout",
     "output_type": "stream",
     "text": [
      " 0  0  0  1 \n",
      " 2  2  0  0 \n",
      " 0  0  0  0 \n",
      "\n"
     ]
    }
   ],
   "source": [
    "state=Board(3,4)\n",
    "state[3]=1\n",
    "state[4]=2\n",
    "state[5]=2\n",
    "print(state)"
   ]
  },
  {
   "cell_type": "code",
   "execution_count": 20,
   "metadata": {},
   "outputs": [],
   "source": [
    "state.pieces=['.','>','^']"
   ]
  },
  {
   "cell_type": "code",
   "execution_count": 21,
   "metadata": {},
   "outputs": [
    {
     "name": "stdout",
     "output_type": "stream",
     "text": [
      " .  .  .  > \n",
      " ^  ^  .  . \n",
      " .  .  .  . \n",
      "\n"
     ]
    }
   ],
   "source": [
    "print(state)"
   ]
  },
  {
   "cell_type": "code",
   "execution_count": null,
   "metadata": {},
   "outputs": [],
   "source": []
  },
  {
   "cell_type": "code",
   "execution_count": null,
   "metadata": {},
   "outputs": [],
   "source": []
  },
  {
   "cell_type": "code",
   "execution_count": null,
   "metadata": {},
   "outputs": [],
   "source": []
  },
  {
   "cell_type": "code",
   "execution_count": 31,
   "metadata": {},
   "outputs": [
    {
     "data": {
      "text/plain": [
       "(2, 1)"
      ]
     },
     "execution_count": 31,
     "metadata": {},
     "output_type": "execute_result"
    }
   ],
   "source": [
    "state.rc_from_index(7)"
   ]
  },
  {
   "cell_type": "code",
   "execution_count": 32,
   "metadata": {},
   "outputs": [],
   "source": [
    "move=7"
   ]
  },
  {
   "cell_type": "code",
   "execution_count": 33,
   "metadata": {},
   "outputs": [],
   "source": [
    "r,c=state.rc_from_index(move)"
   ]
  },
  {
   "cell_type": "code",
   "execution_count": 34,
   "metadata": {},
   "outputs": [
    {
     "data": {
      "text/plain": [
       "(2, 1)"
      ]
     },
     "execution_count": 34,
     "metadata": {},
     "output_type": "execute_result"
    }
   ],
   "source": [
    "r,c"
   ]
  },
  {
   "cell_type": "code",
   "execution_count": 35,
   "metadata": {},
   "outputs": [
    {
     "data": {
      "text/plain": [
       " 0  0  0 \n",
       " 0  0  0 \n",
       " 0  5  0 \n",
       " 0  0  0 \n",
       " 0  0  0 "
      ]
     },
     "execution_count": 35,
     "metadata": {},
     "output_type": "execute_result"
    }
   ],
   "source": [
    "state[7]=5\n",
    "state"
   ]
  },
  {
   "cell_type": "code",
   "execution_count": 36,
   "metadata": {},
   "outputs": [
    {
     "data": {
      "text/plain": [
       "5"
      ]
     },
     "execution_count": 36,
     "metadata": {},
     "output_type": "execute_result"
    }
   ],
   "source": [
    "state[2,1]"
   ]
  },
  {
   "cell_type": "code",
   "execution_count": null,
   "metadata": {},
   "outputs": [],
   "source": []
  },
  {
   "cell_type": "code",
   "execution_count": 9,
   "metadata": {},
   "outputs": [
    {
     "name": "stdout",
     "output_type": "stream",
     "text": [
      "2\n",
      "3\n",
      "4\n"
     ]
    }
   ],
   "source": [
    "for row in range(r,5):\n",
    "    print(row)"
   ]
  },
  {
   "cell_type": "code",
   "execution_count": 41,
   "metadata": {},
   "outputs": [],
   "source": [
    "number_of_rows,number_of_cols=state.shape\n",
    "\n",
    "\n",
    "for row in range(r,number_of_rows)"
   ]
  },
  {
   "cell_type": "code",
   "execution_count": 21,
   "metadata": {},
   "outputs": [],
   "source": [
    "def initial_state(number_of_rows,number_of_columns):\n",
    "    return Board(number_of_rows,number_of_columns)"
   ]
  },
  {
   "cell_type": "code",
   "execution_count": null,
   "metadata": {},
   "outputs": [],
   "source": [
    "def valid_moves(state,player):\n",
    "    bob,sally=state.shape\n",
    "    \n",
    "    "
   ]
  },
  {
   "cell_type": "code",
   "execution_count": null,
   "metadata": {},
   "outputs": [],
   "source": []
  },
  {
   "cell_type": "code",
   "execution_count": 5,
   "metadata": {},
   "outputs": [
    {
     "data": {
      "text/plain": [
       "7"
      ]
     },
     "execution_count": 5,
     "metadata": {},
     "output_type": "execute_result"
    }
   ],
   "source": [
    "state.index_from_rc(2,1)"
   ]
  },
  {
   "cell_type": "code",
   "execution_count": 6,
   "metadata": {},
   "outputs": [
    {
     "name": "stdout",
     "output_type": "stream",
     "text": [
      "[]\n"
     ]
    }
   ],
   "source": [
    "moves=[]\n",
    "print(moves)"
   ]
  },
  {
   "cell_type": "code",
   "execution_count": 7,
   "metadata": {},
   "outputs": [
    {
     "name": "stdout",
     "output_type": "stream",
     "text": [
      "[[2, 3]]\n"
     ]
    }
   ],
   "source": [
    "moves.append([2,3])\n",
    "print(moves)"
   ]
  },
  {
   "cell_type": "code",
   "execution_count": 8,
   "metadata": {},
   "outputs": [
    {
     "name": "stdout",
     "output_type": "stream",
     "text": [
      "[[2, 3], [1, 0]]\n"
     ]
    }
   ],
   "source": [
    "moves.append([1,0])\n",
    "print(moves)"
   ]
  },
  {
   "cell_type": "code",
   "execution_count": 9,
   "metadata": {},
   "outputs": [
    {
     "name": "stdout",
     "output_type": "stream",
     "text": [
      "[[2, 3], [1, 0], [5, 6]]\n"
     ]
    }
   ],
   "source": [
    "moves.append([5,6])\n",
    "print(moves)"
   ]
  },
  {
   "cell_type": "code",
   "execution_count": 12,
   "metadata": {},
   "outputs": [
    {
     "data": {
      "text/plain": [
       "[1, 0]"
      ]
     },
     "execution_count": 12,
     "metadata": {},
     "output_type": "execute_result"
    }
   ],
   "source": [
    "moves[1]"
   ]
  },
  {
   "cell_type": "code",
   "execution_count": 10,
   "metadata": {},
   "outputs": [],
   "source": [
    "def update_state(state,player,move):\n",
    "    start,end=move\n",
    "    \n",
    "    print(\"start\",start)\n",
    "    print(\"end\",end)\n",
    "    \n",
    "    state[start]=0\n",
    "    \n",
    "    state[end]=player\n",
    "    \n",
    "    \n",
    "    "
   ]
  },
  {
   "cell_type": "code",
   "execution_count": 16,
   "metadata": {},
   "outputs": [
    {
     "name": "stdout",
     "output_type": "stream",
     "text": [
      " 1  0  0 \n",
      " 0  0  0 \n",
      " 0  0  0 \n",
      "\n",
      "start 0\n",
      "end 5\n"
     ]
    }
   ],
   "source": [
    "state=Board(3,3)\n",
    "state[0]=1\n",
    "print(state)\n",
    "update_state(state,1,[0,5])"
   ]
  },
  {
   "cell_type": "code",
   "execution_count": 22,
   "metadata": {},
   "outputs": [
    {
     "name": "stdout",
     "output_type": "stream",
     "text": [
      "0 0\n",
      "0 1\n",
      "0 2\n",
      "0 3\n",
      "1 0\n",
      "1 1\n",
      "1 2\n",
      "1 3\n",
      "2 0\n",
      "2 1\n",
      "2 2\n",
      "2 3\n"
     ]
    }
   ],
   "source": [
    "for i in range(3):\n",
    "    for j in range(4):\n",
    "        print(i,j)"
   ]
  },
  {
   "cell_type": "code",
   "execution_count": 23,
   "metadata": {},
   "outputs": [],
   "source": [
    "import Game"
   ]
  },
  {
   "cell_type": "code",
   "execution_count": 24,
   "metadata": {},
   "outputs": [
    {
     "data": {
      "text/plain": [
       "'/Users/bblais/anaconda/lib/python3.6/site-packages/Game/__init__.py'"
      ]
     },
     "execution_count": 24,
     "metadata": {},
     "output_type": "execute_result"
    }
   ],
   "source": [
    "Game.__file__"
   ]
  },
  {
   "cell_type": "code",
   "execution_count": 39,
   "metadata": {},
   "outputs": [],
   "source": [
    "A=[1,2,0,2,3,5,6,5,4]"
   ]
  },
  {
   "cell_type": "code",
   "execution_count": 40,
   "metadata": {},
   "outputs": [
    {
     "name": "stdout",
     "output_type": "stream",
     "text": [
      "yay I found it\n"
     ]
    }
   ],
   "source": [
    "# check if there is a 3 somewhere\n",
    "\n",
    "found=False\n",
    "for i in range(9):\n",
    "    if A[i]==3:\n",
    "        found=True\n",
    "        \n",
    "if found:\n",
    "    pass\n",
    "else:\n",
    "    return \"win\"\n",
    "\n",
    "if not found:\n",
    "    return \"win\"\n",
    "\n"
   ]
  },
  {
   "cell_type": "code",
   "execution_count": null,
   "metadata": {},
   "outputs": [],
   "source": []
  }
 ],
 "metadata": {
  "kernelspec": {
   "display_name": "Python 3",
   "language": "python",
   "name": "python3"
  },
  "language_info": {
   "codemirror_mode": {
    "name": "ipython",
    "version": 3
   },
   "file_extension": ".py",
   "mimetype": "text/x-python",
   "name": "python",
   "nbconvert_exporter": "python",
   "pygments_lexer": "ipython3",
   "version": "3.6.3"
  }
 },
 "nbformat": 4,
 "nbformat_minor": 2
}
