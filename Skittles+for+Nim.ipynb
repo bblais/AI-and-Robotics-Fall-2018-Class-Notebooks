{
 "cells": [
  {
   "cell_type": "code",
   "execution_count": 1,
   "metadata": {
    "collapsed": false
   },
   "outputs": [],
   "source": [
    "from Game import *\n",
    "\n",
    "def initial_state():\n",
    "    return 20\n",
    "\n",
    "def valid_moves(state,player):\n",
    "    if state==1:\n",
    "        return [1]\n",
    "    elif state==2:\n",
    "        return [1,2]\n",
    "    else:\n",
    "        return [1,2,3]\n",
    "        \n",
    "def show_state(state):\n",
    "    print \"There are \",state,\" sticks left.\"\n",
    "\n",
    "def update_state(state,player,move):\n",
    "    new_state=state-move\n",
    "    return new_state\n",
    "\n",
    "def win_status(state,player):\n",
    "\n",
    "    if state==1:\n",
    "        return 'win'\n",
    "    \n",
    "    elif state==0:\n",
    "        return 'lose'\n",
    "    \n",
    "    else:\n",
    "        return None\n",
    "\n",
    "\n",
    "def human_move(state,player):\n",
    "\n",
    "    move=input('Take 1, 2 or 3 sticks ')\n",
    "    return move\n",
    "\n",
    "\n",
    "def perfect_move(state,player):\n",
    "    move=(state-1)%4\n",
    "    if move==0:\n",
    "        move=1\n",
    "    return move\n",
    "\n",
    "def random_move(state,player):\n",
    "    move=random_choice(valid_moves(state,player))\n",
    "    return move\n",
    "\n",
    "\n",
    "human_agent=Agent(human_move)\n",
    "random_agent=Agent(random_move)\n",
    "perfect_agent=Agent(perfect_move)\n"
   ]
  },
  {
   "cell_type": "code",
   "execution_count": 2,
   "metadata": {
    "collapsed": false
   },
   "outputs": [
    {
     "name": "stdout",
     "output_type": "stream",
     "text": [
      "====\n",
      "Game  1\n",
      "There are  20  sticks left.\n",
      "Player 1 moves 3\n",
      "There are  17  sticks left.\n",
      "Player 2 moves 1\n",
      "There are  16  sticks left.\n",
      "Player 1 moves 3\n",
      "There are  13  sticks left.\n",
      "Player 2 moves 1\n",
      "There are  12  sticks left.\n",
      "Player 1 moves 3\n",
      "There are  9  sticks left.\n",
      "Player 2 moves 2\n",
      "There are  7  sticks left.\n",
      "Player 1 moves 2\n",
      "There are  5  sticks left.\n",
      "Player 2 moves 3\n",
      "There are  2  sticks left.\n",
      "Player 1 moves 1\n",
      "There are  1  sticks left.\n",
      "Player  1 won.\n",
      "Total number of games:  1\n",
      "Winning 100.00 percent\n",
      "Losing 0.00 percent\n",
      "Tie 0.00 percent\n"
     ]
    }
   ],
   "source": [
    "g=Game()\n",
    "wins=g.run(perfect_agent,random_agent)\n",
    "\n",
    "g.report()\n"
   ]
  },
  {
   "cell_type": "markdown",
   "metadata": {},
   "source": [
    "## Make a Skittles-based Reinforcement Learning Agent"
   ]
  },
  {
   "cell_type": "code",
   "execution_count": 3,
   "metadata": {
    "collapsed": false
   },
   "outputs": [],
   "source": [
    "def skittles_move(state,player,info):\n",
    "    S=info.S\n",
    "    last_action=info.last_action\n",
    "    last_state=info.last_state\n",
    "    \n",
    "    # if the state not in the skittles table?\n",
    "    if not state in S:\n",
    "        S[state]=Table()\n",
    "        for action in valid_moves(state,player):\n",
    "            S[state][action]=1  # skittle\n",
    "            \n",
    "    move=weighted_choice(S[state])\n",
    "    \n",
    "    if move==None:  # no good moves\n",
    "        \n",
    "        if not last_state:\n",
    "            return random_move(state,player)\n",
    "        \n",
    "        S[last_state][last_action]=0  # remove the skittle\n",
    "        return random_move(state,player)\n",
    "        \n",
    "    else:\n",
    "        return move\n",
    "    \n",
    "def skittles_after(status,player,info):\n",
    "    S=info.S\n",
    "    last_action=info.last_action\n",
    "    last_state=info.last_state\n",
    "\n",
    "    if status=='lose':\n",
    "        S[last_state][last_action]=0  # remove the skittle\n",
    "        "
   ]
  },
  {
   "cell_type": "code",
   "execution_count": 13,
   "metadata": {
    "collapsed": false
   },
   "outputs": [],
   "source": [
    "skittles_agent=Agent(skittles_move)\n",
    "skittles_agent.post=skittles_after\n",
    "\n",
    "skittles_agent.S=Remember() # recall a file"
   ]
  },
  {
   "cell_type": "code",
   "execution_count": 14,
   "metadata": {
    "collapsed": false
   },
   "outputs": [
    {
     "data": {
      "text/plain": [
       "{4: {1: 0, 2: 0, 3: 1},\n",
       " 5: {1: 0, 2: 0, 3: 0},\n",
       " 8: {1: 0, 2: 0, 3: 1},\n",
       " 9: {1: 0, 2: 0, 3: 0},\n",
       " 12: {1: 0, 2: 0, 3: 1},\n",
       " 13: {1: 0, 2: 0, 3: 0},\n",
       " 16: {1: 0, 2: 0, 3: 1},\n",
       " 17: {1: 0, 2: 0, 3: 0},\n",
       " 20: {1: 0, 2: 0, 3: 1}}"
      ]
     },
     "execution_count": 14,
     "metadata": {},
     "output_type": "execute_result"
    }
   ],
   "source": [
    "skittles_agent.S"
   ]
  },
  {
   "cell_type": "code",
   "execution_count": 15,
   "metadata": {
    "collapsed": false
   },
   "outputs": [
    {
     "name": "stdout",
     "output_type": "stream",
     "text": [
      "Total number of games:  25\n",
      "Winning 100.00 percent\n",
      "Losing 0.00 percent\n",
      "Tie 0.00 percent\n"
     ]
    }
   ],
   "source": [
    "g=Game(number_of_games=25)\n",
    "g.display=False\n",
    "g.run(skittles_agent,perfect_agent)\n",
    "\n",
    "Remember(skittles_agent.S)  # save the table to a file\n",
    "g.report()"
   ]
  },
  {
   "cell_type": "code",
   "execution_count": 12,
   "metadata": {
    "collapsed": false
   },
   "outputs": [
    {
     "data": {
      "text/plain": [
       "{4: {1: 0, 2: 0, 3: 1},\n",
       " 5: {1: 0, 2: 0, 3: 0},\n",
       " 8: {1: 0, 2: 0, 3: 1},\n",
       " 9: {1: 0, 2: 0, 3: 0},\n",
       " 12: {1: 0, 2: 0, 3: 1},\n",
       " 13: {1: 0, 2: 0, 3: 0},\n",
       " 16: {1: 0, 2: 0, 3: 1},\n",
       " 17: {1: 0, 2: 0, 3: 0},\n",
       " 20: {1: 0, 2: 0, 3: 1}}"
      ]
     },
     "execution_count": 12,
     "metadata": {},
     "output_type": "execute_result"
    }
   ],
   "source": [
    "skittles_agent.S"
   ]
  },
  {
   "cell_type": "code",
   "execution_count": null,
   "metadata": {
    "collapsed": false
   },
   "outputs": [],
   "source": []
  }
 ],
 "metadata": {
  "anaconda-cloud": {},
  "kernelspec": {
   "display_name": "Python 3",
   "language": "python",
   "name": "python3"
  },
  "language_info": {
   "codemirror_mode": {
    "name": "ipython",
    "version": 3
   },
   "file_extension": ".py",
   "mimetype": "text/x-python",
   "name": "python",
   "nbconvert_exporter": "python",
   "pygments_lexer": "ipython3",
   "version": "3.6.3"
  }
 },
 "nbformat": 4,
 "nbformat_minor": 2
}
